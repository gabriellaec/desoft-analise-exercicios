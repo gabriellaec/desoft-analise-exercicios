{
 "cells": [
  {
   "cell_type": "markdown",
   "metadata": {},
   "source": [
    "# Importando bibliotecas"
   ]
  },
  {
   "cell_type": "code",
   "execution_count": 1,
   "metadata": {},
   "outputs": [],
   "source": [
    "import numpy as np\n",
    "import pandas as pd\n",
    "import matplotlib.pyplot as plt\n",
    "from matplotlib import rcParams\n",
    "from matplotlib.cm import rainbow\n",
    "%matplotlib inline\n",
    "import warnings\n",
    "warnings.filterwarnings('ignore')\n",
    "import seaborn as sns\n",
    "\n",
    "from sklearn.model_selection import train_test_split\n",
    "from sklearn.preprocessing import StandardScaler\n",
    "\n",
    "from sklearn.neighbors import KNeighborsClassifier\n",
    "from sklearn.svm import SVC\n",
    "from sklearn.tree import DecisionTreeClassifier\n",
    "from sklearn.ensemble import RandomForestClassifier\n",
    "\n",
    "import matplotlib as mpl\n",
    "mpl.style.use(\"seaborn\")\n"
   ]
  },
  {
   "cell_type": "markdown",
   "metadata": {},
   "source": [
    "# Criando um database dos arquivos dos exercícios"
   ]
  },
  {
   "cell_type": "code",
   "execution_count": 2,
   "metadata": {},
   "outputs": [
    {
     "ename": "NameError",
     "evalue": "name 'f' is not defined",
     "output_type": "error",
     "traceback": [
      "\u001b[1;31m---------------------------------------------------------------------------\u001b[0m",
      "\u001b[1;31mNameError\u001b[0m                                 Traceback (most recent call last)",
      "\u001b[1;32m<ipython-input-2-d555184f9332>\u001b[0m in \u001b[0;36m<module>\u001b[1;34m\u001b[0m\n\u001b[0;32m     28\u001b[0m         \u001b[1;31m#########################\u001b[0m\u001b[1;33m\u001b[0m\u001b[1;33m\u001b[0m\u001b[1;33m\u001b[0m\u001b[0m\n\u001b[0;32m     29\u001b[0m         \u001b[1;32mif\u001b[0m \u001b[1;34m\"ch3_\"\u001b[0m \u001b[1;32min\u001b[0m \u001b[0mfilename\u001b[0m\u001b[1;33m:\u001b[0m\u001b[1;33m\u001b[0m\u001b[1;33m\u001b[0m\u001b[0m\n\u001b[1;32m---> 30\u001b[1;33m             \u001b[0mshutil\u001b[0m\u001b[1;33m.\u001b[0m\u001b[0mcopy\u001b[0m\u001b[1;33m(\u001b[0m\u001b[0mf\u001b[0m\u001b[1;33m,\u001b[0m \u001b[1;34m'ex3'\u001b[0m\u001b[1;33m)\u001b[0m\u001b[1;33m\u001b[0m\u001b[1;33m\u001b[0m\u001b[0m\n\u001b[0m\u001b[0;32m     31\u001b[0m \u001b[1;33m\u001b[0m\u001b[0m\n\u001b[0;32m     32\u001b[0m         \u001b[1;31m#########################\u001b[0m\u001b[1;33m\u001b[0m\u001b[1;33m\u001b[0m\u001b[1;33m\u001b[0m\u001b[0m\n",
      "\u001b[1;31mNameError\u001b[0m: name 'f' is not defined"
     ]
    }
   ],
   "source": [
    "import shutil, os\n",
    "import csv\n",
    "from PIL import Image\n",
    "\n",
    "exercicios = {}\n",
    "users = []\n",
    "for i in range (1,400):\n",
    "    \n",
    "    if i <10:\n",
    "        user= \"00\"+ str(i)\n",
    "    \n",
    "    elif i<100:\n",
    "        user= \"0\"+ str(i)\n",
    "        \n",
    "    else:\n",
    "        user=str(i)\n",
    "        \n",
    "\n",
    "    path = 'backup/user_' + user\n",
    "    \n",
    "    users.append(path)\n",
    "    \n",
    "    \n",
    "    data=[]\n",
    "    for filename in os.listdir(path):\n",
    "        data.append(filename)\n",
    "        #writer.writerow(data)\n",
    "        #########################\n",
    "        if \"ch3_\" in filename:\n",
    "            shutil.copy(filename, 'ex3')\n",
    "            \n",
    "        #########################\n",
    "    exercicios[int(user)]=data\n",
    "    data=[]\n"
   ]
  },
  {
   "cell_type": "code",
   "execution_count": null,
   "metadata": {},
   "outputs": [],
   "source": [
    "dict={}\n",
    "lista=[]\n",
    "for k in exercicios.keys():\n",
    "    exs={}\n",
    "    for l in exercicios[k]:\n",
    "            p=l.find('_')\n",
    "            numero=int(l[2:p])          \n",
    "            if numero not in exs:\n",
    "                exs[numero] = 1\n",
    "                lista.append(numero)\n",
    "            else:\n",
    "                exs[numero] += 1\n",
    "    dict[k]=exs"
   ]
  },
  {
   "cell_type": "code",
   "execution_count": null,
   "metadata": {},
   "outputs": [],
   "source": [
    "from collections import OrderedDict \n",
    "dict1 = OrderedDict(sorted(dict.items())) \n"
   ]
  },
  {
   "cell_type": "code",
   "execution_count": null,
   "metadata": {},
   "outputs": [],
   "source": [
    "dados = pd.DataFrame.from_dict(dict1) \n"
   ]
  },
  {
   "cell_type": "code",
   "execution_count": null,
   "metadata": {},
   "outputs": [],
   "source": [
    "dados=dados.T"
   ]
  },
  {
   "cell_type": "code",
   "execution_count": null,
   "metadata": {},
   "outputs": [],
   "source": [
    "df = dados.reindex(columns=sorted(dados.columns))\n"
   ]
  },
  {
   "cell_type": "code",
   "execution_count": null,
   "metadata": {},
   "outputs": [],
   "source": [
    "df=df.fillna(0)\n"
   ]
  },
  {
   "cell_type": "code",
   "execution_count": null,
   "metadata": {},
   "outputs": [],
   "source": [
    "df.head()"
   ]
  },
  {
   "cell_type": "markdown",
   "metadata": {},
   "source": [
    "# Análise exploratória   - Quantos fizeram?"
   ]
  },
  {
   "cell_type": "markdown",
   "metadata": {},
   "source": [
    "## Escreva o número do exercício:"
   ]
  },
  {
   "cell_type": "code",
   "execution_count": null,
   "metadata": {},
   "outputs": [],
   "source": [
    "numero_exercicio = 3"
   ]
  },
  {
   "cell_type": "markdown",
   "metadata": {},
   "source": [
    "## Escreva o nome do exercício (mesmo da pasta no repositório)"
   ]
  },
  {
   "cell_type": "code",
   "execution_count": null,
   "metadata": {},
   "outputs": [],
   "source": [
    "nome_exercicio = \"gaussiana\""
   ]
  },
  {
   "cell_type": "code",
   "execution_count": null,
   "metadata": {},
   "outputs": [],
   "source": [
    "exercicio3=df[numero_exercicio]\n",
    "total = exercicio3.count()\n",
    "naoFeito = exercicio3.isna().sum()\n",
    "feito=total-naoFeito\n",
    "naoFeito"
   ]
  },
  {
   "cell_type": "code",
   "execution_count": null,
   "metadata": {},
   "outputs": [],
   "source": [
    "tentativas_ex3 = exercicio3.value_counts()\n",
    "\n",
    "total_tentativas=tentativas_ex3.sum()\n",
    "naoFeitos_ex3 = tentativas_ex3[0]\n",
    "\n",
    "feitos=total-naoFeitos_ex3\n",
    "print(f\"Porcentagem dos que fizeram: {(feitos/(total_tentativas))*100}%\")"
   ]
  },
  {
   "cell_type": "code",
   "execution_count": null,
   "metadata": {},
   "outputs": [],
   "source": [
    "from matplotlib import pyplot as plt\n",
    "import numpy as np\n",
    "fig = plt.figure()\n",
    "ax = fig.add_axes([0,0,1,1])\n",
    "ax.axis('equal')\n",
    "ax.pie((naoFeitos_ex3,feitos), labels = ('Não feito', 'Feito'))\n",
    "plt.show()"
   ]
  },
  {
   "cell_type": "markdown",
   "metadata": {},
   "source": [
    "# Quantidade de tentativas"
   ]
  },
  {
   "cell_type": "code",
   "execution_count": null,
   "metadata": {
    "scrolled": true
   },
   "outputs": [],
   "source": [
    "fig=plt.figure(figsize=(12,10))\n",
    "tentativas_ex3.plot(kind='bar',  legend=False)\n",
    "plt.xlabel('Tentativas')\n",
    "plt.ylabel('Alunos')\n"
   ]
  },
  {
   "cell_type": "markdown",
   "metadata": {},
   "source": [
    "## Média de tentativas"
   ]
  },
  {
   "cell_type": "code",
   "execution_count": null,
   "metadata": {},
   "outputs": [],
   "source": [
    "print(f\"Média: {int(np.mean(tentativas_ex3))}\")"
   ]
  },
  {
   "cell_type": "markdown",
   "metadata": {},
   "source": [
    "# Analisando os erros"
   ]
  },
  {
   "cell_type": "code",
   "execution_count": null,
   "metadata": {},
   "outputs": [],
   "source": [
    "json_results= \"exercicios/analise-exercicios/\"+ nome_exercicio + \"/resultado.json\"\n",
    "json_results"
   ]
  },
  {
   "cell_type": "code",
   "execution_count": null,
   "metadata": {},
   "outputs": [],
   "source": [
    "df_exs = pd.read_json(json_results, orient='records')\n",
    "df_exs = df_exs.rename(columns = {'id':'id','erros':'erros', 'resultado':'passou'})\n",
    "df_exs"
   ]
  },
  {
   "cell_type": "code",
   "execution_count": null,
   "metadata": {},
   "outputs": [],
   "source": [
    "#df_exs=df_exs.set_index('id')\n",
    "df_exs.tail()"
   ]
  },
  {
   "cell_type": "code",
   "execution_count": null,
   "metadata": {},
   "outputs": [],
   "source": [
    "id = df_exs[\"id\"]\n"
   ]
  },
  {
   "cell_type": "code",
   "execution_count": null,
   "metadata": {},
   "outputs": [],
   "source": []
  },
  {
   "cell_type": "code",
   "execution_count": null,
   "metadata": {
    "scrolled": true
   },
   "outputs": [],
   "source": [
    "r = df_exs[\"passou\"]\n"
   ]
  },
  {
   "cell_type": "code",
   "execution_count": null,
   "metadata": {
    "scrolled": true
   },
   "outputs": [],
   "source": [
    "df_erros=df_exs[df_exs['passou']==False]\n",
    "\n",
    "df_erros.head()"
   ]
  },
  {
   "cell_type": "code",
   "execution_count": null,
   "metadata": {},
   "outputs": [],
   "source": [
    "erros_count = df_erros[\"erros\"].value_counts()"
   ]
  },
  {
   "cell_type": "code",
   "execution_count": null,
   "metadata": {},
   "outputs": [],
   "source": [
    "plt.figure(figsize=(12, 8))\n",
    "ax = erros_count.plot(kind='bar')\n",
    "plt.xlabel('Tipos de erros')\n",
    "plt.ylabel('Quantidade')\n",
    "x_labels = [\"AssertionError\", \"SyntaxError\", \"IndentationError\"]\n",
    "#ax.legend(x_labels)\n",
    "ax.set_xticklabels(x_labels)"
   ]
  },
  {
   "cell_type": "markdown",
   "metadata": {},
   "source": [
    "## Adicionando os IDs dos usuários ao dataframe"
   ]
  },
  {
   "cell_type": "code",
   "execution_count": null,
   "metadata": {},
   "outputs": [],
   "source": [
    "import os\n",
    "\n",
    "def list_files(dir):\n",
    "    r = []\n",
    "    for root, dirs, files in os.walk(dir):\n",
    "        for name in files:\n",
    "            r.append(os.path.join(root, name))\n",
    "    return r"
   ]
  },
  {
   "cell_type": "code",
   "execution_count": null,
   "metadata": {},
   "outputs": [],
   "source": [
    "dir = r\"C:\\Users\\gabic\\Documents\\NINJA_DeSoft\\submissoes_servidor\\backup\"\n",
    "files = list_files(dir)"
   ]
  },
  {
   "cell_type": "code",
   "execution_count": null,
   "metadata": {},
   "outputs": [],
   "source": [
    "lista_files = []\n",
    "for f in files:\n",
    "    f = f[65:]\n",
    "    f.replace(\"//\",\"/\")\n",
    "    lista_files.append(f)\n",
    "    \n",
    "lista_files= lista_files[1:]"
   ]
  },
  {
   "cell_type": "code",
   "execution_count": null,
   "metadata": {},
   "outputs": [],
   "source": [
    "df_erros[\"usuario\"]=\"0\"\n"
   ]
  },
  {
   "cell_type": "code",
   "execution_count": null,
   "metadata": {},
   "outputs": [],
   "source": [
    " for ind in df_erros.index: \n",
    "        for l in lista_files:\n",
    "            user = l[0:8]\n",
    "            ex = l[9:]\n",
    "            if ex == df_erros[\"id\"][ind]:\n",
    "                df_erros[\"usuario\"][ind] = user\n",
    "#                 print(user)\n",
    "#                 print(ex)\n",
    "\n"
   ]
  },
  {
   "cell_type": "code",
   "execution_count": null,
   "metadata": {
    "scrolled": true
   },
   "outputs": [],
   "source": [
    "df_erros.head()"
   ]
  },
  {
   "cell_type": "code",
   "execution_count": null,
   "metadata": {
    "scrolled": true
   },
   "outputs": [],
   "source": [
    "df_erros['erros'] = [''.join(map(str, l)) for l in df_erros['erros']]\n",
    "df_erros.head()\n"
   ]
  },
  {
   "cell_type": "code",
   "execution_count": null,
   "metadata": {},
   "outputs": [],
   "source": [
    "num = [0,1,2,3,4,5,6,7,8,9]\n",
    "for ind in df_erros.index: \n",
    "    erro = \"AssertionError:\"\n",
    "    for n in num:\n",
    "        if str(n) in df_erros[\"erros\"][ind]:\n",
    "            erro+=(str(n)+\"/\")\n",
    "    if (erro !=  (\"AssertionError:\")):\n",
    "        df_erros[\"erros\"][ind] = erro\n",
    "    \n",
    "    elif df_erros[\"erros\"][ind] == \"^\\nSyntaxError:\":\n",
    "        df_erros[\"erros\"][ind] = \"SyntaxError\"\n",
    "    \n",
    "    elif df_erros[\"erros\"][ind] == \"^\\nIndentationError:\":\n",
    "        df_erros[\"erros\"][ind] = \"IndentationError\"\n",
    "\n",
    "            \n",
    "            \n",
    "df_erros           "
   ]
  },
  {
   "cell_type": "code",
   "execution_count": null,
   "metadata": {
    "scrolled": true
   },
   "outputs": [],
   "source": [
    "users_count = df_erros[\"usuario\"].value_counts()\n",
    "users_count"
   ]
  },
  {
   "cell_type": "code",
   "execution_count": null,
   "metadata": {},
   "outputs": [],
   "source": [
    "erros = df_erros[\"erros\"]\n",
    "users = df_erros[\"usuario\"]\n",
    "table = pd.crosstab(erros, users)\n",
    "plot=sns.heatmap(table, annot=True, cmap=\"YlGnBu\")"
   ]
  },
  {
   "cell_type": "code",
   "execution_count": null,
   "metadata": {},
   "outputs": [],
   "source": []
  }
 ],
 "metadata": {
  "kernelspec": {
   "display_name": "Python 3",
   "language": "python",
   "name": "python3"
  },
  "language_info": {
   "codemirror_mode": {
    "name": "ipython",
    "version": 3
   },
   "file_extension": ".py",
   "mimetype": "text/x-python",
   "name": "python",
   "nbconvert_exporter": "python",
   "pygments_lexer": "ipython3",
   "version": "3.7.1"
  }
 },
 "nbformat": 4,
 "nbformat_minor": 2
}
