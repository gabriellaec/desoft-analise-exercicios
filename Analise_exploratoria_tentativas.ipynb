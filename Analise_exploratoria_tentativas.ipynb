{
 "cells": [
  {
   "cell_type": "markdown",
   "metadata": {},
   "source": [
    "# Importando bibliotecas"
   ]
  },
  {
   "cell_type": "code",
   "execution_count": 77,
   "metadata": {},
   "outputs": [],
   "source": [
    "import numpy as np\n",
    "import pandas as pd\n",
    "import matplotlib.pyplot as plt\n",
    "from matplotlib import rcParams\n",
    "from matplotlib.cm import rainbow\n",
    "%matplotlib inline\n",
    "import warnings\n",
    "warnings.filterwarnings('ignore')\n",
    "import seaborn as sns\n",
    "\n",
    "from sklearn.model_selection import train_test_split\n",
    "from sklearn.preprocessing import StandardScaler\n",
    "\n",
    "from sklearn.neighbors import KNeighborsClassifier\n",
    "from sklearn.svm import SVC\n",
    "from sklearn.tree import DecisionTreeClassifier\n",
    "from sklearn.ensemble import RandomForestClassifier\n",
    "\n",
    "import matplotlib as mpl\n",
    "mpl.style.use(\"seaborn\")\n"
   ]
  },
  {
   "cell_type": "markdown",
   "metadata": {},
   "source": [
    "# Criando um database dos arquivos dos exercícios"
   ]
  },
  {
   "cell_type": "code",
   "execution_count": 78,
   "metadata": {},
   "outputs": [],
   "source": [
    "import shutil, os\n",
    "import csv\n",
    "from PIL import Image\n",
    "\n",
    "exercicios = {}\n",
    "users = []\n",
    "for i in range (1,400):\n",
    "    \n",
    "    if i <10:\n",
    "        user= \"00\"+ str(i)\n",
    "    \n",
    "    elif i<100:\n",
    "        user= \"0\"+ str(i)\n",
    "        \n",
    "    else:\n",
    "        user=str(i)\n",
    "        \n",
    "\n",
    "    path = 'backup/user_' + user\n",
    "    \n",
    "    users.append(path)\n",
    "    \n",
    "    \n",
    "    data=[]\n",
    "    for filename in os.listdir(path):\n",
    "        data.append(filename)\n",
    "        #writer.writerow(data)\n",
    "        #########################\n",
    "#         if \"ch3_\" in filename:\n",
    "#             print(filename)\n",
    "# #             os.mkdir('pasta')\n",
    "#             f = path+'/'+filename\n",
    "\n",
    "#             shutil.copy(f, 'pasta')\n",
    "            \n",
    "        #########################\n",
    "    exercicios[int(user)]=data\n",
    "    data=[]\n"
   ]
  },
  {
   "cell_type": "code",
   "execution_count": 79,
   "metadata": {},
   "outputs": [],
   "source": [
    "dict={}\n",
    "lista=[]\n",
    "for k in exercicios.keys():\n",
    "    exs={}\n",
    "    for l in exercicios[k]:\n",
    "            p=l.find('_')\n",
    "            numero=int(l[2:p])          \n",
    "            if numero not in exs:\n",
    "                exs[numero] = 1\n",
    "                lista.append(numero)\n",
    "            else:\n",
    "                exs[numero] += 1\n",
    "    dict[k]=exs"
   ]
  },
  {
   "cell_type": "code",
   "execution_count": 80,
   "metadata": {},
   "outputs": [],
   "source": [
    "from collections import OrderedDict \n",
    "dict1 = OrderedDict(sorted(dict.items())) \n"
   ]
  },
  {
   "cell_type": "code",
   "execution_count": 81,
   "metadata": {},
   "outputs": [],
   "source": [
    "dados = pd.DataFrame.from_dict(dict1) \n"
   ]
  },
  {
   "cell_type": "code",
   "execution_count": 82,
   "metadata": {},
   "outputs": [],
   "source": [
    "dados=dados.T"
   ]
  },
  {
   "cell_type": "code",
   "execution_count": 83,
   "metadata": {},
   "outputs": [],
   "source": [
    "df = dados.reindex(columns=sorted(dados.columns))\n"
   ]
  },
  {
   "cell_type": "code",
   "execution_count": 84,
   "metadata": {},
   "outputs": [],
   "source": [
    "df=df.fillna(0)\n"
   ]
  },
  {
   "cell_type": "code",
   "execution_count": 85,
   "metadata": {},
   "outputs": [
    {
     "data": {
      "text/html": [
       "<div>\n",
       "<style scoped>\n",
       "    .dataframe tbody tr th:only-of-type {\n",
       "        vertical-align: middle;\n",
       "    }\n",
       "\n",
       "    .dataframe tbody tr th {\n",
       "        vertical-align: top;\n",
       "    }\n",
       "\n",
       "    .dataframe thead th {\n",
       "        text-align: right;\n",
       "    }\n",
       "</style>\n",
       "<table border=\"1\" class=\"dataframe\">\n",
       "  <thead>\n",
       "    <tr style=\"text-align: right;\">\n",
       "      <th></th>\n",
       "      <th>1</th>\n",
       "      <th>2</th>\n",
       "      <th>3</th>\n",
       "      <th>4</th>\n",
       "      <th>5</th>\n",
       "      <th>6</th>\n",
       "      <th>7</th>\n",
       "      <th>8</th>\n",
       "      <th>9</th>\n",
       "      <th>10</th>\n",
       "      <th>...</th>\n",
       "      <th>172</th>\n",
       "      <th>173</th>\n",
       "      <th>174</th>\n",
       "      <th>175</th>\n",
       "      <th>176</th>\n",
       "      <th>177</th>\n",
       "      <th>178</th>\n",
       "      <th>179</th>\n",
       "      <th>180</th>\n",
       "      <th>181</th>\n",
       "    </tr>\n",
       "  </thead>\n",
       "  <tbody>\n",
       "    <tr>\n",
       "      <th>1</th>\n",
       "      <td>1.0</td>\n",
       "      <td>1.0</td>\n",
       "      <td>7.0</td>\n",
       "      <td>3.0</td>\n",
       "      <td>21.0</td>\n",
       "      <td>2.0</td>\n",
       "      <td>14.0</td>\n",
       "      <td>4.0</td>\n",
       "      <td>0.0</td>\n",
       "      <td>12.0</td>\n",
       "      <td>...</td>\n",
       "      <td>0.0</td>\n",
       "      <td>0.0</td>\n",
       "      <td>0.0</td>\n",
       "      <td>0.0</td>\n",
       "      <td>0.0</td>\n",
       "      <td>0.0</td>\n",
       "      <td>0.0</td>\n",
       "      <td>0.0</td>\n",
       "      <td>0.0</td>\n",
       "      <td>0.0</td>\n",
       "    </tr>\n",
       "    <tr>\n",
       "      <th>2</th>\n",
       "      <td>0.0</td>\n",
       "      <td>0.0</td>\n",
       "      <td>0.0</td>\n",
       "      <td>0.0</td>\n",
       "      <td>0.0</td>\n",
       "      <td>5.0</td>\n",
       "      <td>8.0</td>\n",
       "      <td>0.0</td>\n",
       "      <td>0.0</td>\n",
       "      <td>0.0</td>\n",
       "      <td>...</td>\n",
       "      <td>0.0</td>\n",
       "      <td>0.0</td>\n",
       "      <td>0.0</td>\n",
       "      <td>0.0</td>\n",
       "      <td>0.0</td>\n",
       "      <td>0.0</td>\n",
       "      <td>0.0</td>\n",
       "      <td>0.0</td>\n",
       "      <td>0.0</td>\n",
       "      <td>0.0</td>\n",
       "    </tr>\n",
       "    <tr>\n",
       "      <th>3</th>\n",
       "      <td>0.0</td>\n",
       "      <td>7.0</td>\n",
       "      <td>3.0</td>\n",
       "      <td>3.0</td>\n",
       "      <td>1.0</td>\n",
       "      <td>1.0</td>\n",
       "      <td>1.0</td>\n",
       "      <td>2.0</td>\n",
       "      <td>3.0</td>\n",
       "      <td>1.0</td>\n",
       "      <td>...</td>\n",
       "      <td>0.0</td>\n",
       "      <td>0.0</td>\n",
       "      <td>0.0</td>\n",
       "      <td>0.0</td>\n",
       "      <td>0.0</td>\n",
       "      <td>0.0</td>\n",
       "      <td>0.0</td>\n",
       "      <td>0.0</td>\n",
       "      <td>0.0</td>\n",
       "      <td>0.0</td>\n",
       "    </tr>\n",
       "    <tr>\n",
       "      <th>4</th>\n",
       "      <td>3.0</td>\n",
       "      <td>15.0</td>\n",
       "      <td>5.0</td>\n",
       "      <td>2.0</td>\n",
       "      <td>6.0</td>\n",
       "      <td>2.0</td>\n",
       "      <td>0.0</td>\n",
       "      <td>0.0</td>\n",
       "      <td>2.0</td>\n",
       "      <td>6.0</td>\n",
       "      <td>...</td>\n",
       "      <td>0.0</td>\n",
       "      <td>0.0</td>\n",
       "      <td>0.0</td>\n",
       "      <td>0.0</td>\n",
       "      <td>0.0</td>\n",
       "      <td>0.0</td>\n",
       "      <td>0.0</td>\n",
       "      <td>0.0</td>\n",
       "      <td>0.0</td>\n",
       "      <td>0.0</td>\n",
       "    </tr>\n",
       "    <tr>\n",
       "      <th>5</th>\n",
       "      <td>2.0</td>\n",
       "      <td>1.0</td>\n",
       "      <td>5.0</td>\n",
       "      <td>7.0</td>\n",
       "      <td>2.0</td>\n",
       "      <td>1.0</td>\n",
       "      <td>2.0</td>\n",
       "      <td>1.0</td>\n",
       "      <td>2.0</td>\n",
       "      <td>1.0</td>\n",
       "      <td>...</td>\n",
       "      <td>0.0</td>\n",
       "      <td>0.0</td>\n",
       "      <td>0.0</td>\n",
       "      <td>0.0</td>\n",
       "      <td>0.0</td>\n",
       "      <td>0.0</td>\n",
       "      <td>0.0</td>\n",
       "      <td>0.0</td>\n",
       "      <td>0.0</td>\n",
       "      <td>0.0</td>\n",
       "    </tr>\n",
       "  </tbody>\n",
       "</table>\n",
       "<p>5 rows × 153 columns</p>\n",
       "</div>"
      ],
      "text/plain": [
       "   1     2    3    4     5    6     7    8    9     10  ...   172  173  174  \\\n",
       "1  1.0   1.0  7.0  3.0  21.0  2.0  14.0  4.0  0.0  12.0 ...   0.0  0.0  0.0   \n",
       "2  0.0   0.0  0.0  0.0   0.0  5.0   8.0  0.0  0.0   0.0 ...   0.0  0.0  0.0   \n",
       "3  0.0   7.0  3.0  3.0   1.0  1.0   1.0  2.0  3.0   1.0 ...   0.0  0.0  0.0   \n",
       "4  3.0  15.0  5.0  2.0   6.0  2.0   0.0  0.0  2.0   6.0 ...   0.0  0.0  0.0   \n",
       "5  2.0   1.0  5.0  7.0   2.0  1.0   2.0  1.0  2.0   1.0 ...   0.0  0.0  0.0   \n",
       "\n",
       "   175  176  177  178  179  180  181  \n",
       "1  0.0  0.0  0.0  0.0  0.0  0.0  0.0  \n",
       "2  0.0  0.0  0.0  0.0  0.0  0.0  0.0  \n",
       "3  0.0  0.0  0.0  0.0  0.0  0.0  0.0  \n",
       "4  0.0  0.0  0.0  0.0  0.0  0.0  0.0  \n",
       "5  0.0  0.0  0.0  0.0  0.0  0.0  0.0  \n",
       "\n",
       "[5 rows x 153 columns]"
      ]
     },
     "execution_count": 85,
     "metadata": {},
     "output_type": "execute_result"
    }
   ],
   "source": [
    "df.head()"
   ]
  },
  {
   "cell_type": "markdown",
   "metadata": {},
   "source": [
    "# Análise exploratória   - Quantos fizeram?"
   ]
  },
  {
   "cell_type": "markdown",
   "metadata": {},
   "source": [
    "## Escreva o número do exercício:"
   ]
  },
  {
   "cell_type": "code",
   "execution_count": 86,
   "metadata": {},
   "outputs": [],
   "source": [
    "numero_exercicio = 3"
   ]
  },
  {
   "cell_type": "markdown",
   "metadata": {},
   "source": [
    "## Escreva o nome do exercício (mesmo da pasta no repositório)"
   ]
  },
  {
   "cell_type": "code",
   "execution_count": 87,
   "metadata": {},
   "outputs": [],
   "source": [
    "nome_exercicio = \"gaussiana\""
   ]
  },
  {
   "cell_type": "code",
   "execution_count": 88,
   "metadata": {},
   "outputs": [
    {
     "data": {
      "text/plain": [
       "0"
      ]
     },
     "execution_count": 88,
     "metadata": {},
     "output_type": "execute_result"
    }
   ],
   "source": [
    "exercicio3=df[numero_exercicio]\n",
    "total = exercicio3.count()\n",
    "naoFeito = exercicio3.isna().sum()\n",
    "feito=total-naoFeito\n",
    "naoFeito"
   ]
  },
  {
   "cell_type": "code",
   "execution_count": 89,
   "metadata": {},
   "outputs": [
    {
     "name": "stdout",
     "output_type": "stream",
     "text": [
      "Porcentagem dos que fizeram: 79.9498746867168%\n"
     ]
    }
   ],
   "source": [
    "tentativas_ex3 = exercicio3.value_counts()\n",
    "\n",
    "total_tentativas=tentativas_ex3.sum()\n",
    "naoFeitos_ex3 = tentativas_ex3[0]\n",
    "\n",
    "feitos=total-naoFeitos_ex3\n",
    "print(f\"Porcentagem dos que fizeram: {(feitos/(total_tentativas))*100}%\")"
   ]
  },
  {
   "cell_type": "code",
   "execution_count": 90,
   "metadata": {},
   "outputs": [
    {
     "data": {
      "image/png": "[encoded data removed]",
      "text/plain": [
       "<Figure size 576x396 with 1 Axes>"
      ]
     },
     "metadata": {},
     "output_type": "display_data"
    }
   ],
   "source": [
    "from matplotlib import pyplot as plt\n",
    "import numpy as np\n",
    "fig = plt.figure()\n",
    "ax = fig.add_axes([0,0,1,1])\n",
    "ax.axis('equal')\n",
    "ax.pie((naoFeitos_ex3,feitos), labels = ('Não feito', 'Feito'))\n",
    "plt.show()"
   ]
  },
  {
   "cell_type": "markdown",
   "metadata": {},
   "source": [
    "# Quantidade de tentativas"
   ]
  },
  {
   "cell_type": "code",
   "execution_count": 91,
   "metadata": {
    "scrolled": true
   },
   "outputs": [
    {
     "data": {
      "text/plain": [
       "Text(0, 0.5, 'Alunos')"
      ]
     },
     "execution_count": 91,
     "metadata": {},
     "output_type": "execute_result"
    },
    {
     "data": {
      "image/png": "[encoded data removed]",
      "text/plain": [
       "<Figure size 864x720 with 1 Axes>"
      ]
     },
     "metadata": {},
     "output_type": "display_data"
    }
   ],
   "source": [
    "fig=plt.figure(figsize=(12,10))\n",
    "tentativas_ex3.plot(kind='bar',  legend=False)\n",
    "plt.xlabel('Tentativas')\n",
    "plt.ylabel('Alunos')\n"
   ]
  },
  {
   "cell_type": "markdown",
   "metadata": {},
   "source": [
    "## Média de tentativas"
   ]
  },
  {
   "cell_type": "code",
   "execution_count": 92,
   "metadata": {},
   "outputs": [
    {
     "name": "stdout",
     "output_type": "stream",
     "text": [
      "Média: 13\n"
     ]
    }
   ],
   "source": [
    "print(f\"Média: {int(np.mean(tentativas_ex3))}\")"
   ]
  },
  {
   "cell_type": "markdown",
   "metadata": {},
   "source": [
    "# Analisando os erros"
   ]
  },
  {
   "cell_type": "code",
   "execution_count": 93,
   "metadata": {},
   "outputs": [
    {
     "data": {
      "text/plain": [
       "'exercicios/analise-exercicios/gaussiana/resultado.json'"
      ]
     },
     "execution_count": 93,
     "metadata": {},
     "output_type": "execute_result"
    }
   ],
   "source": [
    "json_results= \"exercicios/analise-exercicios/\"+ nome_exercicio + \"/resultado.json\"\n",
    "json_results"
   ]
  },
  {
   "cell_type": "code",
   "execution_count": 94,
   "metadata": {},
   "outputs": [],
   "source": [
    "df_exs = pd.read_json(json_results, orient='records')\n",
    "df_exs = df_exs.rename(columns = {'id':'id','erros':'erros', 'resultado':'passou'})\n"
   ]
  },
  {
   "cell_type": "code",
   "execution_count": 95,
   "metadata": {},
   "outputs": [
    {
     "data": {
      "text/html": [
       "<div>\n",
       "<style scoped>\n",
       "    .dataframe tbody tr th:only-of-type {\n",
       "        vertical-align: middle;\n",
       "    }\n",
       "\n",
       "    .dataframe tbody tr th {\n",
       "        vertical-align: top;\n",
       "    }\n",
       "\n",
       "    .dataframe thead th {\n",
       "        text-align: right;\n",
       "    }\n",
       "</style>\n",
       "<table border=\"1\" class=\"dataframe\">\n",
       "  <thead>\n",
       "    <tr style=\"text-align: right;\">\n",
       "      <th></th>\n",
       "      <th>erros</th>\n",
       "      <th>id</th>\n",
       "      <th>passou</th>\n",
       "    </tr>\n",
       "  </thead>\n",
       "  <tbody>\n",
       "    <tr>\n",
       "      <th>5</th>\n",
       "      <td>[test_1\\nAssertionError:, test_2\\nAssertionErr...</td>\n",
       "      <td>ch3_2019_03_08_01_23_06_233167.py</td>\n",
       "      <td>False</td>\n",
       "    </tr>\n",
       "    <tr>\n",
       "      <th>6</th>\n",
       "      <td>[test_1\\nAssertionError:, test_2\\nAssertionErr...</td>\n",
       "      <td>ch3_2019_03_08_13_43_05_730833.py</td>\n",
       "      <td>False</td>\n",
       "    </tr>\n",
       "    <tr>\n",
       "      <th>7</th>\n",
       "      <td>[]</td>\n",
       "      <td>ch3_2020_03_09_20_14_08_994855.py</td>\n",
       "      <td>True</td>\n",
       "    </tr>\n",
       "    <tr>\n",
       "      <th>8</th>\n",
       "      <td>[^\\nIndentationError:]</td>\n",
       "      <td>ch3_2019_03_08_01_26_08_960519.py</td>\n",
       "      <td>False</td>\n",
       "    </tr>\n",
       "    <tr>\n",
       "      <th>9</th>\n",
       "      <td>[^\\nSyntaxError:]</td>\n",
       "      <td>ch3_2020_09_09_20_18_58_431532.py</td>\n",
       "      <td>False</td>\n",
       "    </tr>\n",
       "  </tbody>\n",
       "</table>\n",
       "</div>"
      ],
      "text/plain": [
       "                                               erros  \\\n",
       "5  [test_1\\nAssertionError:, test_2\\nAssertionErr...   \n",
       "6  [test_1\\nAssertionError:, test_2\\nAssertionErr...   \n",
       "7                                                 []   \n",
       "8                             [^\\nIndentationError:]   \n",
       "9                                  [^\\nSyntaxError:]   \n",
       "\n",
       "                                  id  passou  \n",
       "5  ch3_2019_03_08_01_23_06_233167.py   False  \n",
       "6  ch3_2019_03_08_13_43_05_730833.py   False  \n",
       "7  ch3_2020_03_09_20_14_08_994855.py    True  \n",
       "8  ch3_2019_03_08_01_26_08_960519.py   False  \n",
       "9  ch3_2020_09_09_20_18_58_431532.py   False  "
      ]
     },
     "execution_count": 95,
     "metadata": {},
     "output_type": "execute_result"
    }
   ],
   "source": [
    "#df_exs=df_exs.set_index('id')\n",
    "df_exs.tail()"
   ]
  },
  {
   "cell_type": "code",
   "execution_count": 96,
   "metadata": {},
   "outputs": [],
   "source": [
    "id = df_exs[\"id\"]\n"
   ]
  },
  {
   "cell_type": "code",
   "execution_count": 97,
   "metadata": {
    "scrolled": true
   },
   "outputs": [],
   "source": [
    "r = df_exs[\"passou\"]\n"
   ]
  },
  {
   "cell_type": "code",
   "execution_count": 98,
   "metadata": {
    "scrolled": true
   },
   "outputs": [
    {
     "data": {
      "text/html": [
       "<div>\n",
       "<style scoped>\n",
       "    .dataframe tbody tr th:only-of-type {\n",
       "        vertical-align: middle;\n",
       "    }\n",
       "\n",
       "    .dataframe tbody tr th {\n",
       "        vertical-align: top;\n",
       "    }\n",
       "\n",
       "    .dataframe thead th {\n",
       "        text-align: right;\n",
       "    }\n",
       "</style>\n",
       "<table border=\"1\" class=\"dataframe\">\n",
       "  <thead>\n",
       "    <tr style=\"text-align: right;\">\n",
       "      <th></th>\n",
       "      <th>erros</th>\n",
       "      <th>id</th>\n",
       "      <th>passou</th>\n",
       "    </tr>\n",
       "  </thead>\n",
       "  <tbody>\n",
       "    <tr>\n",
       "      <th>0</th>\n",
       "      <td>[test_1\\nAssertionError:, test_2\\nAssertionErr...</td>\n",
       "      <td>ch3_2019_03_08_01_26_43_395614.py</td>\n",
       "      <td>False</td>\n",
       "    </tr>\n",
       "    <tr>\n",
       "      <th>1</th>\n",
       "      <td>[test_1\\nAssertionError:, test_2\\nAssertionErr...</td>\n",
       "      <td>ch3_2019_03_08_01_25_09_975959.py</td>\n",
       "      <td>False</td>\n",
       "    </tr>\n",
       "    <tr>\n",
       "      <th>2</th>\n",
       "      <td>[test_1\\nAssertionError:, test_2\\nAssertionErr...</td>\n",
       "      <td>ch3_2019_03_08_01_47_11_893854.py</td>\n",
       "      <td>False</td>\n",
       "    </tr>\n",
       "    <tr>\n",
       "      <th>4</th>\n",
       "      <td>[^\\nSyntaxError:]</td>\n",
       "      <td>ch3_2020_09_09_20_18_43_328377.py</td>\n",
       "      <td>False</td>\n",
       "    </tr>\n",
       "    <tr>\n",
       "      <th>5</th>\n",
       "      <td>[test_1\\nAssertionError:, test_2\\nAssertionErr...</td>\n",
       "      <td>ch3_2019_03_08_01_23_06_233167.py</td>\n",
       "      <td>False</td>\n",
       "    </tr>\n",
       "  </tbody>\n",
       "</table>\n",
       "</div>"
      ],
      "text/plain": [
       "                                               erros  \\\n",
       "0  [test_1\\nAssertionError:, test_2\\nAssertionErr...   \n",
       "1  [test_1\\nAssertionError:, test_2\\nAssertionErr...   \n",
       "2  [test_1\\nAssertionError:, test_2\\nAssertionErr...   \n",
       "4                                  [^\\nSyntaxError:]   \n",
       "5  [test_1\\nAssertionError:, test_2\\nAssertionErr...   \n",
       "\n",
       "                                  id  passou  \n",
       "0  ch3_2019_03_08_01_26_43_395614.py   False  \n",
       "1  ch3_2019_03_08_01_25_09_975959.py   False  \n",
       "2  ch3_2019_03_08_01_47_11_893854.py   False  \n",
       "4  ch3_2020_09_09_20_18_43_328377.py   False  \n",
       "5  ch3_2019_03_08_01_23_06_233167.py   False  "
      ]
     },
     "execution_count": 98,
     "metadata": {},
     "output_type": "execute_result"
    }
   ],
   "source": [
    "df_erros=df_exs[df_exs['passou']==False]\n",
    "\n",
    "df_erros.head()"
   ]
  },
  {
   "cell_type": "code",
   "execution_count": 99,
   "metadata": {
    "scrolled": false
   },
   "outputs": [
    {
     "data": {
      "text/html": [
       "<div>\n",
       "<style scoped>\n",
       "    .dataframe tbody tr th:only-of-type {\n",
       "        vertical-align: middle;\n",
       "    }\n",
       "\n",
       "    .dataframe tbody tr th {\n",
       "        vertical-align: top;\n",
       "    }\n",
       "\n",
       "    .dataframe thead th {\n",
       "        text-align: right;\n",
       "    }\n",
       "</style>\n",
       "<table border=\"1\" class=\"dataframe\">\n",
       "  <thead>\n",
       "    <tr style=\"text-align: right;\">\n",
       "      <th></th>\n",
       "      <th>erros</th>\n",
       "      <th>id</th>\n",
       "      <th>passou</th>\n",
       "    </tr>\n",
       "  </thead>\n",
       "  <tbody>\n",
       "    <tr>\n",
       "      <th>0</th>\n",
       "      <td>test_1\\nAssertionError:test_2\\nAssertionError:...</td>\n",
       "      <td>ch3_2019_03_08_01_26_43_395614.py</td>\n",
       "      <td>False</td>\n",
       "    </tr>\n",
       "    <tr>\n",
       "      <th>1</th>\n",
       "      <td>test_1\\nAssertionError:test_2\\nAssertionError:...</td>\n",
       "      <td>ch3_2019_03_08_01_25_09_975959.py</td>\n",
       "      <td>False</td>\n",
       "    </tr>\n",
       "    <tr>\n",
       "      <th>2</th>\n",
       "      <td>test_1\\nAssertionError:test_2\\nAssertionError:...</td>\n",
       "      <td>ch3_2019_03_08_01_47_11_893854.py</td>\n",
       "      <td>False</td>\n",
       "    </tr>\n",
       "    <tr>\n",
       "      <th>4</th>\n",
       "      <td>^\\nSyntaxError:</td>\n",
       "      <td>ch3_2020_09_09_20_18_43_328377.py</td>\n",
       "      <td>False</td>\n",
       "    </tr>\n",
       "    <tr>\n",
       "      <th>5</th>\n",
       "      <td>test_1\\nAssertionError:test_2\\nAssertionError:...</td>\n",
       "      <td>ch3_2019_03_08_01_23_06_233167.py</td>\n",
       "      <td>False</td>\n",
       "    </tr>\n",
       "  </tbody>\n",
       "</table>\n",
       "</div>"
      ],
      "text/plain": [
       "                                               erros  \\\n",
       "0  test_1\\nAssertionError:test_2\\nAssertionError:...   \n",
       "1  test_1\\nAssertionError:test_2\\nAssertionError:...   \n",
       "2  test_1\\nAssertionError:test_2\\nAssertionError:...   \n",
       "4                                    ^\\nSyntaxError:   \n",
       "5  test_1\\nAssertionError:test_2\\nAssertionError:...   \n",
       "\n",
       "                                  id  passou  \n",
       "0  ch3_2019_03_08_01_26_43_395614.py   False  \n",
       "1  ch3_2019_03_08_01_25_09_975959.py   False  \n",
       "2  ch3_2019_03_08_01_47_11_893854.py   False  \n",
       "4  ch3_2020_09_09_20_18_43_328377.py   False  \n",
       "5  ch3_2019_03_08_01_23_06_233167.py   False  "
      ]
     },
     "execution_count": 99,
     "metadata": {},
     "output_type": "execute_result"
    }
   ],
   "source": [
    "df_erros['erros'] = [''.join(map(str, l)) for l in df_erros['erros']]\n",
    "df_erros.head()\n"
   ]
  },
  {
   "cell_type": "code",
   "execution_count": 100,
   "metadata": {
    "scrolled": true
   },
   "outputs": [
    {
     "data": {
      "text/html": [
       "<div>\n",
       "<style scoped>\n",
       "    .dataframe tbody tr th:only-of-type {\n",
       "        vertical-align: middle;\n",
       "    }\n",
       "\n",
       "    .dataframe tbody tr th {\n",
       "        vertical-align: top;\n",
       "    }\n",
       "\n",
       "    .dataframe thead th {\n",
       "        text-align: right;\n",
       "    }\n",
       "</style>\n",
       "<table border=\"1\" class=\"dataframe\">\n",
       "  <thead>\n",
       "    <tr style=\"text-align: right;\">\n",
       "      <th></th>\n",
       "      <th>erros</th>\n",
       "      <th>id</th>\n",
       "      <th>passou</th>\n",
       "    </tr>\n",
       "  </thead>\n",
       "  <tbody>\n",
       "    <tr>\n",
       "      <th>0</th>\n",
       "      <td>AssertionError:1/2/5/6/7/</td>\n",
       "      <td>ch3_2019_03_08_01_26_43_395614.py</td>\n",
       "      <td>False</td>\n",
       "    </tr>\n",
       "    <tr>\n",
       "      <th>1</th>\n",
       "      <td>AssertionError:1/2/5/6/7/</td>\n",
       "      <td>ch3_2019_03_08_01_25_09_975959.py</td>\n",
       "      <td>False</td>\n",
       "    </tr>\n",
       "    <tr>\n",
       "      <th>2</th>\n",
       "      <td>AssertionError:1/2/5/6/7/</td>\n",
       "      <td>ch3_2019_03_08_01_47_11_893854.py</td>\n",
       "      <td>False</td>\n",
       "    </tr>\n",
       "    <tr>\n",
       "      <th>4</th>\n",
       "      <td>SyntaxError</td>\n",
       "      <td>ch3_2020_09_09_20_18_43_328377.py</td>\n",
       "      <td>False</td>\n",
       "    </tr>\n",
       "    <tr>\n",
       "      <th>5</th>\n",
       "      <td>AssertionError:1/2/5/6/7/</td>\n",
       "      <td>ch3_2019_03_08_01_23_06_233167.py</td>\n",
       "      <td>False</td>\n",
       "    </tr>\n",
       "  </tbody>\n",
       "</table>\n",
       "</div>"
      ],
      "text/plain": [
       "                       erros                                 id  passou\n",
       "0  AssertionError:1/2/5/6/7/  ch3_2019_03_08_01_26_43_395614.py   False\n",
       "1  AssertionError:1/2/5/6/7/  ch3_2019_03_08_01_25_09_975959.py   False\n",
       "2  AssertionError:1/2/5/6/7/  ch3_2019_03_08_01_47_11_893854.py   False\n",
       "4                SyntaxError  ch3_2020_09_09_20_18_43_328377.py   False\n",
       "5  AssertionError:1/2/5/6/7/  ch3_2019_03_08_01_23_06_233167.py   False"
      ]
     },
     "execution_count": 100,
     "metadata": {},
     "output_type": "execute_result"
    }
   ],
   "source": [
    "num = [0,1,2,3,4,5,6,7,8,9]\n",
    "for ind in df_erros.index: \n",
    "    erro = \"AssertionError:\"\n",
    "    for n in num:\n",
    "        if str(n) in df_erros[\"erros\"][ind]:\n",
    "            erro+=(str(n)+\"/\")\n",
    "    if (erro !=  (\"AssertionError:\")):\n",
    "        df_erros[\"erros\"][ind] = erro\n",
    "    \n",
    "    elif  \"SyntaxError\" in df_erros[\"erros\"][ind]:\n",
    "        df_erros[\"erros\"][ind] = \"SyntaxError\"\n",
    "    \n",
    "    elif \"IndentationError\" in df_erros[\"erros\"][ind]:\n",
    "        df_erros[\"erros\"][ind] = \"IndentationError\"\n",
    "\n",
    "            \n",
    "            \n",
    "df_erros.head()           "
   ]
  },
  {
   "cell_type": "code",
   "execution_count": 101,
   "metadata": {},
   "outputs": [],
   "source": [
    "erros_count = df_erros[\"erros\"].value_counts()"
   ]
  },
  {
   "cell_type": "code",
   "execution_count": 102,
   "metadata": {},
   "outputs": [
    {
     "data": {
      "text/plain": [
       "[Text(0, 0, 'AssertionError'),\n",
       " Text(0, 0, 'SyntaxError'),\n",
       " Text(0, 0, 'IndentationError')]"
      ]
     },
     "execution_count": 102,
     "metadata": {},
     "output_type": "execute_result"
    },
    {
     "data": {
      "image/png": "[encoded data removed]",
      "text/plain": [
       "<Figure size 864x576 with 1 Axes>"
      ]
     },
     "metadata": {},
     "output_type": "display_data"
    }
   ],
   "source": [
    "plt.figure(figsize=(12, 8))\n",
    "ax = erros_count.plot(kind='bar')\n",
    "plt.xlabel('Tipos de erros')\n",
    "plt.ylabel('Quantidade')\n",
    "x_labels = [\"AssertionError\", \"SyntaxError\", \"IndentationError\"]\n",
    "#ax.legend(x_labels)\n",
    "ax.set_xticklabels(x_labels)"
   ]
  },
  {
   "cell_type": "markdown",
   "metadata": {},
   "source": [
    "## Adicionando os IDs dos usuários ao dataframe"
   ]
  },
  {
   "cell_type": "code",
   "execution_count": 103,
   "metadata": {},
   "outputs": [],
   "source": [
    "import os\n",
    "\n",
    "def list_files(dir):\n",
    "    r = []\n",
    "    for root, dirs, files in os.walk(dir):\n",
    "        for name in files:\n",
    "            r.append(os.path.join(root, name))\n",
    "    return r"
   ]
  },
  {
   "cell_type": "code",
   "execution_count": 104,
   "metadata": {},
   "outputs": [],
   "source": [
    "dir = r\"C:\\Users\\gabic\\Documents\\NINJA_DeSoft\\submissoes_servidor\\backup\"\n",
    "files = list_files(dir)"
   ]
  },
  {
   "cell_type": "code",
   "execution_count": 105,
   "metadata": {},
   "outputs": [],
   "source": [
    "lista_files = []\n",
    "for f in files:\n",
    "    f = f[65:]\n",
    "    f.replace(\"//\",\"/\")\n",
    "    lista_files.append(f)\n",
    "    \n",
    "lista_files= lista_files[1:]"
   ]
  },
  {
   "cell_type": "code",
   "execution_count": 106,
   "metadata": {},
   "outputs": [],
   "source": [
    "df_erros[\"usuario\"]=\"0\"\n"
   ]
  },
  {
   "cell_type": "code",
   "execution_count": 107,
   "metadata": {},
   "outputs": [],
   "source": [
    " for ind in df_erros.index: \n",
    "        for l in lista_files:\n",
    "            user = l[0:8]\n",
    "            ex = l[9:]\n",
    "            if ex == df_erros[\"id\"][ind]:\n",
    "                df_erros[\"usuario\"][ind] = user\n",
    "#                 print(user)\n",
    "#                 print(ex)\n"
   ]
  },
  {
   "cell_type": "code",
   "execution_count": 108,
   "metadata": {
    "scrolled": true
   },
   "outputs": [
    {
     "data": {
      "text/html": [
       "<div>\n",
       "<style scoped>\n",
       "    .dataframe tbody tr th:only-of-type {\n",
       "        vertical-align: middle;\n",
       "    }\n",
       "\n",
       "    .dataframe tbody tr th {\n",
       "        vertical-align: top;\n",
       "    }\n",
       "\n",
       "    .dataframe thead th {\n",
       "        text-align: right;\n",
       "    }\n",
       "</style>\n",
       "<table border=\"1\" class=\"dataframe\">\n",
       "  <thead>\n",
       "    <tr style=\"text-align: right;\">\n",
       "      <th></th>\n",
       "      <th>erros</th>\n",
       "      <th>id</th>\n",
       "      <th>passou</th>\n",
       "      <th>usuario</th>\n",
       "    </tr>\n",
       "  </thead>\n",
       "  <tbody>\n",
       "    <tr>\n",
       "      <th>0</th>\n",
       "      <td>AssertionError:1/2/5/6/7/</td>\n",
       "      <td>ch3_2019_03_08_01_26_43_395614.py</td>\n",
       "      <td>False</td>\n",
       "      <td>user_001</td>\n",
       "    </tr>\n",
       "    <tr>\n",
       "      <th>1</th>\n",
       "      <td>AssertionError:1/2/5/6/7/</td>\n",
       "      <td>ch3_2019_03_08_01_25_09_975959.py</td>\n",
       "      <td>False</td>\n",
       "      <td>user_001</td>\n",
       "    </tr>\n",
       "    <tr>\n",
       "      <th>2</th>\n",
       "      <td>AssertionError:1/2/5/6/7/</td>\n",
       "      <td>ch3_2019_03_08_01_47_11_893854.py</td>\n",
       "      <td>False</td>\n",
       "      <td>user_001</td>\n",
       "    </tr>\n",
       "    <tr>\n",
       "      <th>4</th>\n",
       "      <td>SyntaxError</td>\n",
       "      <td>ch3_2020_09_09_20_18_43_328377.py</td>\n",
       "      <td>False</td>\n",
       "      <td>user_003</td>\n",
       "    </tr>\n",
       "    <tr>\n",
       "      <th>5</th>\n",
       "      <td>AssertionError:1/2/5/6/7/</td>\n",
       "      <td>ch3_2019_03_08_01_23_06_233167.py</td>\n",
       "      <td>False</td>\n",
       "      <td>user_001</td>\n",
       "    </tr>\n",
       "  </tbody>\n",
       "</table>\n",
       "</div>"
      ],
      "text/plain": [
       "                       erros                                 id  passou  \\\n",
       "0  AssertionError:1/2/5/6/7/  ch3_2019_03_08_01_26_43_395614.py   False   \n",
       "1  AssertionError:1/2/5/6/7/  ch3_2019_03_08_01_25_09_975959.py   False   \n",
       "2  AssertionError:1/2/5/6/7/  ch3_2019_03_08_01_47_11_893854.py   False   \n",
       "4                SyntaxError  ch3_2020_09_09_20_18_43_328377.py   False   \n",
       "5  AssertionError:1/2/5/6/7/  ch3_2019_03_08_01_23_06_233167.py   False   \n",
       "\n",
       "    usuario  \n",
       "0  user_001  \n",
       "1  user_001  \n",
       "2  user_001  \n",
       "4  user_003  \n",
       "5  user_001  "
      ]
     },
     "execution_count": 108,
     "metadata": {},
     "output_type": "execute_result"
    }
   ],
   "source": [
    "df_erros.head()"
   ]
  },
  {
   "cell_type": "code",
   "execution_count": 109,
   "metadata": {
    "scrolled": true
   },
   "outputs": [
    {
     "data": {
      "text/plain": [
       "user_001    6\n",
       "user_003    2\n",
       "Name: usuario, dtype: int64"
      ]
     },
     "execution_count": 109,
     "metadata": {},
     "output_type": "execute_result"
    }
   ],
   "source": [
    "users_count = df_erros[\"usuario\"].value_counts()\n",
    "users_count"
   ]
  },
  {
   "cell_type": "code",
   "execution_count": 110,
   "metadata": {},
   "outputs": [
    {
     "data": {
      "image/png": "[encoded data removed]",
      "text/plain": [
       "<Figure size 576x396 with 2 Axes>"
      ]
     },
     "metadata": {},
     "output_type": "display_data"
    }
   ],
   "source": [
    "erros = df_erros[\"erros\"]\n",
    "users = df_erros[\"usuario\"]\n",
    "table = pd.crosstab(erros, users)\n",
    "plot=sns.heatmap(table, annot=True, cmap=\"YlGnBu\")"
   ]
  },
  {
   "cell_type": "code",
   "execution_count": null,
   "metadata": {},
   "outputs": [],
   "source": []
  }
 ],
 "metadata": {
  "kernelspec": {
   "display_name": "Python 3",
   "language": "python",
   "name": "python3"
  },
  "language_info": {
   "codemirror_mode": {
    "name": "ipython",
    "version": 3
   },
   "file_extension": ".py",
   "mimetype": "text/x-python",
   "name": "python",
   "nbconvert_exporter": "python",
   "pygments_lexer": "ipython3",
   "version": "3.7.1"
  }
 },
 "nbformat": 4,
 "nbformat_minor": 2
}
