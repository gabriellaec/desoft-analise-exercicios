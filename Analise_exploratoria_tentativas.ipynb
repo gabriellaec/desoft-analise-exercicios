{
 "cells": [
  {
   "cell_type": "markdown",
   "metadata": {},
   "source": [
    "# Importando bibliotecas"
   ]
  },
  {
   "cell_type": "code",
   "execution_count": 2,
   "metadata": {},
   "outputs": [],
   "source": [
    "import numpy as np\n",
    "import pandas as pd\n",
    "import matplotlib.pyplot as plt\n",
    "from matplotlib import rcParams\n",
    "from matplotlib.cm import rainbow\n",
    "%matplotlib inline\n",
    "import warnings\n",
    "warnings.filterwarnings('ignore')\n",
    "import seaborn as sns\n",
    "\n",
    "from sklearn.model_selection import train_test_split\n",
    "from sklearn.preprocessing import StandardScaler\n",
    "\n",
    "from sklearn.neighbors import KNeighborsClassifier\n",
    "from sklearn.svm import SVC\n",
    "from sklearn.tree import DecisionTreeClassifier\n",
    "from sklearn.ensemble import RandomForestClassifier\n",
    "\n",
    "import matplotlib as mpl\n",
    "mpl.style.use(\"seaborn\")\n"
   ]
  },
  {
   "cell_type": "markdown",
   "metadata": {},
   "source": [
    "# Criando um database dos arquivos dos exercícios"
   ]
  },
  {
   "cell_type": "code",
   "execution_count": 3,
   "metadata": {},
   "outputs": [],
   "source": [
    "import shutil, os\n",
    "import csv\n",
    "from PIL import Image\n",
    "\n",
    "exercicios = {}\n",
    "users = []\n",
    "for i in range (1,400):\n",
    "    \n",
    "    if i <10:\n",
    "        user= \"00\"+ str(i)\n",
    "    \n",
    "    elif i<100:\n",
    "        user= \"0\"+ str(i)\n",
    "        \n",
    "    else:\n",
    "        user=str(i)\n",
    "        \n",
    "\n",
    "    path = 'backup/user_' + user\n",
    "    \n",
    "    users.append(path)\n",
    "    \n",
    "    \n",
    "    data=[]\n",
    "    for filename in os.listdir(path):\n",
    "        data.append(filename)\n",
    "        #writer.writerow(data)\n",
    "        #########################\n",
    "#         if \"ch3_\" in filename:\n",
    "#             print(filename)\n",
    "# #             os.mkdir('pasta')\n",
    "#             f = path+'/'+filename\n",
    "\n",
    "#             shutil.copy(f, 'pasta')\n",
    "            \n",
    "        #########################\n",
    "    exercicios[int(user)]=data\n",
    "    data=[]\n"
   ]
  },
  {
   "cell_type": "code",
   "execution_count": 4,
   "metadata": {},
   "outputs": [],
   "source": [
    "dict={}\n",
    "lista=[]\n",
    "for k in exercicios.keys():\n",
    "    exs={}\n",
    "    for l in exercicios[k]:\n",
    "            p=l.find('_')\n",
    "            numero=int(l[2:p])          \n",
    "            if numero not in exs:\n",
    "                exs[numero] = 1\n",
    "                lista.append(numero)\n",
    "            else:\n",
    "                exs[numero] += 1\n",
    "    dict[k]=exs"
   ]
  },
  {
   "cell_type": "code",
   "execution_count": 5,
   "metadata": {},
   "outputs": [],
   "source": [
    "from collections import OrderedDict \n",
    "dict1 = OrderedDict(sorted(dict.items())) \n"
   ]
  },
  {
   "cell_type": "code",
   "execution_count": 6,
   "metadata": {},
   "outputs": [],
   "source": [
    "dados = pd.DataFrame.from_dict(dict1) \n"
   ]
  },
  {
   "cell_type": "code",
   "execution_count": 7,
   "metadata": {},
   "outputs": [],
   "source": [
    "dados=dados.T"
   ]
  },
  {
   "cell_type": "code",
   "execution_count": 8,
   "metadata": {},
   "outputs": [],
   "source": [
    "df = dados.reindex(columns=sorted(dados.columns))\n"
   ]
  },
  {
   "cell_type": "code",
   "execution_count": 9,
   "metadata": {},
   "outputs": [],
   "source": [
    "df=df.fillna(0)\n"
   ]
  },
  {
   "cell_type": "code",
   "execution_count": 10,
   "metadata": {},
   "outputs": [
    {
     "data": {
      "text/html": [
       "<div>\n",
       "<style scoped>\n",
       "    .dataframe tbody tr th:only-of-type {\n",
       "        vertical-align: middle;\n",
       "    }\n",
       "\n",
       "    .dataframe tbody tr th {\n",
       "        vertical-align: top;\n",
       "    }\n",
       "\n",
       "    .dataframe thead th {\n",
       "        text-align: right;\n",
       "    }\n",
       "</style>\n",
       "<table border=\"1\" class=\"dataframe\">\n",
       "  <thead>\n",
       "    <tr style=\"text-align: right;\">\n",
       "      <th></th>\n",
       "      <th>1</th>\n",
       "      <th>2</th>\n",
       "      <th>3</th>\n",
       "      <th>4</th>\n",
       "      <th>5</th>\n",
       "      <th>6</th>\n",
       "      <th>7</th>\n",
       "      <th>8</th>\n",
       "      <th>9</th>\n",
       "      <th>10</th>\n",
       "      <th>...</th>\n",
       "      <th>172</th>\n",
       "      <th>173</th>\n",
       "      <th>174</th>\n",
       "      <th>175</th>\n",
       "      <th>176</th>\n",
       "      <th>177</th>\n",
       "      <th>178</th>\n",
       "      <th>179</th>\n",
       "      <th>180</th>\n",
       "      <th>181</th>\n",
       "    </tr>\n",
       "  </thead>\n",
       "  <tbody>\n",
       "    <tr>\n",
       "      <th>1</th>\n",
       "      <td>1.0</td>\n",
       "      <td>1.0</td>\n",
       "      <td>7.0</td>\n",
       "      <td>3.0</td>\n",
       "      <td>21.0</td>\n",
       "      <td>2.0</td>\n",
       "      <td>14.0</td>\n",
       "      <td>4.0</td>\n",
       "      <td>0.0</td>\n",
       "      <td>12.0</td>\n",
       "      <td>...</td>\n",
       "      <td>0.0</td>\n",
       "      <td>0.0</td>\n",
       "      <td>0.0</td>\n",
       "      <td>0.0</td>\n",
       "      <td>0.0</td>\n",
       "      <td>0.0</td>\n",
       "      <td>0.0</td>\n",
       "      <td>0.0</td>\n",
       "      <td>0.0</td>\n",
       "      <td>0.0</td>\n",
       "    </tr>\n",
       "    <tr>\n",
       "      <th>2</th>\n",
       "      <td>0.0</td>\n",
       "      <td>0.0</td>\n",
       "      <td>0.0</td>\n",
       "      <td>0.0</td>\n",
       "      <td>0.0</td>\n",
       "      <td>5.0</td>\n",
       "      <td>8.0</td>\n",
       "      <td>0.0</td>\n",
       "      <td>0.0</td>\n",
       "      <td>0.0</td>\n",
       "      <td>...</td>\n",
       "      <td>0.0</td>\n",
       "      <td>0.0</td>\n",
       "      <td>0.0</td>\n",
       "      <td>0.0</td>\n",
       "      <td>0.0</td>\n",
       "      <td>0.0</td>\n",
       "      <td>0.0</td>\n",
       "      <td>0.0</td>\n",
       "      <td>0.0</td>\n",
       "      <td>0.0</td>\n",
       "    </tr>\n",
       "    <tr>\n",
       "      <th>3</th>\n",
       "      <td>0.0</td>\n",
       "      <td>7.0</td>\n",
       "      <td>3.0</td>\n",
       "      <td>3.0</td>\n",
       "      <td>1.0</td>\n",
       "      <td>1.0</td>\n",
       "      <td>1.0</td>\n",
       "      <td>2.0</td>\n",
       "      <td>3.0</td>\n",
       "      <td>1.0</td>\n",
       "      <td>...</td>\n",
       "      <td>0.0</td>\n",
       "      <td>0.0</td>\n",
       "      <td>0.0</td>\n",
       "      <td>0.0</td>\n",
       "      <td>0.0</td>\n",
       "      <td>0.0</td>\n",
       "      <td>0.0</td>\n",
       "      <td>0.0</td>\n",
       "      <td>0.0</td>\n",
       "      <td>0.0</td>\n",
       "    </tr>\n",
       "    <tr>\n",
       "      <th>4</th>\n",
       "      <td>3.0</td>\n",
       "      <td>15.0</td>\n",
       "      <td>5.0</td>\n",
       "      <td>2.0</td>\n",
       "      <td>6.0</td>\n",
       "      <td>2.0</td>\n",
       "      <td>0.0</td>\n",
       "      <td>0.0</td>\n",
       "      <td>2.0</td>\n",
       "      <td>6.0</td>\n",
       "      <td>...</td>\n",
       "      <td>0.0</td>\n",
       "      <td>0.0</td>\n",
       "      <td>0.0</td>\n",
       "      <td>0.0</td>\n",
       "      <td>0.0</td>\n",
       "      <td>0.0</td>\n",
       "      <td>0.0</td>\n",
       "      <td>0.0</td>\n",
       "      <td>0.0</td>\n",
       "      <td>0.0</td>\n",
       "    </tr>\n",
       "    <tr>\n",
       "      <th>5</th>\n",
       "      <td>2.0</td>\n",
       "      <td>1.0</td>\n",
       "      <td>5.0</td>\n",
       "      <td>7.0</td>\n",
       "      <td>2.0</td>\n",
       "      <td>1.0</td>\n",
       "      <td>2.0</td>\n",
       "      <td>1.0</td>\n",
       "      <td>2.0</td>\n",
       "      <td>1.0</td>\n",
       "      <td>...</td>\n",
       "      <td>0.0</td>\n",
       "      <td>0.0</td>\n",
       "      <td>0.0</td>\n",
       "      <td>0.0</td>\n",
       "      <td>0.0</td>\n",
       "      <td>0.0</td>\n",
       "      <td>0.0</td>\n",
       "      <td>0.0</td>\n",
       "      <td>0.0</td>\n",
       "      <td>0.0</td>\n",
       "    </tr>\n",
       "  </tbody>\n",
       "</table>\n",
       "<p>5 rows × 153 columns</p>\n",
       "</div>"
      ],
      "text/plain": [
       "   1     2    3    4     5    6     7    8    9     10  ...   172  173  174  \\\n",
       "1  1.0   1.0  7.0  3.0  21.0  2.0  14.0  4.0  0.0  12.0 ...   0.0  0.0  0.0   \n",
       "2  0.0   0.0  0.0  0.0   0.0  5.0   8.0  0.0  0.0   0.0 ...   0.0  0.0  0.0   \n",
       "3  0.0   7.0  3.0  3.0   1.0  1.0   1.0  2.0  3.0   1.0 ...   0.0  0.0  0.0   \n",
       "4  3.0  15.0  5.0  2.0   6.0  2.0   0.0  0.0  2.0   6.0 ...   0.0  0.0  0.0   \n",
       "5  2.0   1.0  5.0  7.0   2.0  1.0   2.0  1.0  2.0   1.0 ...   0.0  0.0  0.0   \n",
       "\n",
       "   175  176  177  178  179  180  181  \n",
       "1  0.0  0.0  0.0  0.0  0.0  0.0  0.0  \n",
       "2  0.0  0.0  0.0  0.0  0.0  0.0  0.0  \n",
       "3  0.0  0.0  0.0  0.0  0.0  0.0  0.0  \n",
       "4  0.0  0.0  0.0  0.0  0.0  0.0  0.0  \n",
       "5  0.0  0.0  0.0  0.0  0.0  0.0  0.0  \n",
       "\n",
       "[5 rows x 153 columns]"
      ]
     },
     "execution_count": 10,
     "metadata": {},
     "output_type": "execute_result"
    }
   ],
   "source": [
    "df.head()"
   ]
  },
  {
   "cell_type": "markdown",
   "metadata": {},
   "source": [
    "# Análise exploratória   - Quantos fizeram?"
   ]
  },
  {
   "cell_type": "markdown",
   "metadata": {},
   "source": [
    "## Escreva o número do exercício:"
   ]
  },
  {
   "cell_type": "code",
   "execution_count": 11,
   "metadata": {},
   "outputs": [],
   "source": [
    "numero_exercicio = 3"
   ]
  },
  {
   "cell_type": "markdown",
   "metadata": {},
   "source": [
    "## Escreva o nome do exercício (mesmo da pasta no repositório)"
   ]
  },
  {
   "cell_type": "code",
   "execution_count": 12,
   "metadata": {},
   "outputs": [],
   "source": [
    "nome_exercicio = \"gaussiana\""
   ]
  },
  {
   "cell_type": "code",
   "execution_count": 13,
   "metadata": {},
   "outputs": [
    {
     "data": {
      "text/plain": [
       "0"
      ]
     },
     "execution_count": 13,
     "metadata": {},
     "output_type": "execute_result"
    }
   ],
   "source": [
    "exercicio3=df[numero_exercicio]\n",
    "total = exercicio3.count()\n",
    "naoFeito = exercicio3.isna().sum()\n",
    "feito=total-naoFeito\n",
    "naoFeito"
   ]
  },
  {
   "cell_type": "code",
   "execution_count": 14,
   "metadata": {},
   "outputs": [
    {
     "name": "stdout",
     "output_type": "stream",
     "text": [
      "Porcentagem dos que fizeram: 79.9498746867168%\n"
     ]
    }
   ],
   "source": [
    "tentativas_ex3 = exercicio3.value_counts()\n",
    "\n",
    "total_tentativas=tentativas_ex3.sum()\n",
    "naoFeitos_ex3 = tentativas_ex3[0]\n",
    "\n",
    "feitos=total-naoFeitos_ex3\n",
    "print(f\"Porcentagem dos que fizeram: {(feitos/(total_tentativas))*100}%\")"
   ]
  },
  {
   "cell_type": "code",
   "execution_count": 15,
   "metadata": {},
   "outputs": [
    {
     "data": {
      "image/png": "[encoded data removed]",
      "text/plain": [
       "<Figure size 432x288 with 1 Axes>"
      ]
     },
     "metadata": {},
     "output_type": "display_data"
    }
   ],
   "source": [
    "from matplotlib import pyplot as plt\n",
    "import numpy as np\n",
    "fig = plt.figure()\n",
    "ax = fig.add_axes([0,0,1,1])\n",
    "ax.axis('equal')\n",
    "ax.pie((naoFeitos_ex3,feitos), labels = ('Não feito', 'Feito'))\n",
    "plt.show()"
   ]
  },
  {
   "cell_type": "markdown",
   "metadata": {},
   "source": [
    "# Quantidade de tentativas"
   ]
  },
  {
   "cell_type": "code",
   "execution_count": 16,
   "metadata": {
    "scrolled": true
   },
   "outputs": [
    {
     "data": {
      "text/plain": [
       "Text(0, 0.5, 'Alunos')"
      ]
     },
     "execution_count": 16,
     "metadata": {},
     "output_type": "execute_result"
    },
    {
     "data": {
      "image/png": "[encoded data removed]",
      "text/plain": [
       "<Figure size 864x720 with 1 Axes>"
      ]
     },
     "metadata": {
      "needs_background": "light"
     },
     "output_type": "display_data"
    }
   ],
   "source": [
    "fig=plt.figure(figsize=(12,10))\n",
    "tentativas_ex3.plot(kind='bar',  legend=False)\n",
    "plt.xlabel('Tentativas')\n",
    "plt.ylabel('Alunos')\n"
   ]
  },
  {
   "cell_type": "markdown",
   "metadata": {},
   "source": [
    "## Média de tentativas"
   ]
  },
  {
   "cell_type": "code",
   "execution_count": 17,
   "metadata": {},
   "outputs": [
    {
     "name": "stdout",
     "output_type": "stream",
     "text": [
      "Média: 13\n"
     ]
    }
   ],
   "source": [
    "print(f\"Média: {int(np.mean(tentativas_ex3))}\")"
   ]
  },
  {
   "cell_type": "markdown",
   "metadata": {},
   "source": [
    "# Analisando os erros"
   ]
  },
  {
   "cell_type": "code",
   "execution_count": 18,
   "metadata": {},
   "outputs": [
    {
     "data": {
      "text/plain": [
       "'exercicios/analise-exercicios/gaussiana/resultado.json'"
      ]
     },
     "execution_count": 18,
     "metadata": {},
     "output_type": "execute_result"
    }
   ],
   "source": [
    "json_results= \"exercicios/analise-exercicios/\"+ nome_exercicio + \"/resultado.json\"\n",
    "json_results"
   ]
  },
  {
   "cell_type": "code",
   "execution_count": 19,
   "metadata": {},
   "outputs": [],
   "source": [
    "df_exs = pd.read_json(json_results, orient='records')\n",
    "df_exs = df_exs.rename(columns = {'id':'id','erros':'erros', 'resultado':'passou'})\n"
   ]
  },
  {
   "cell_type": "code",
   "execution_count": 20,
   "metadata": {},
   "outputs": [
    {
     "data": {
      "text/html": [
       "<div>\n",
       "<style scoped>\n",
       "    .dataframe tbody tr th:only-of-type {\n",
       "        vertical-align: middle;\n",
       "    }\n",
       "\n",
       "    .dataframe tbody tr th {\n",
       "        vertical-align: top;\n",
       "    }\n",
       "\n",
       "    .dataframe thead th {\n",
       "        text-align: right;\n",
       "    }\n",
       "</style>\n",
       "<table border=\"1\" class=\"dataframe\">\n",
       "  <thead>\n",
       "    <tr style=\"text-align: right;\">\n",
       "      <th></th>\n",
       "      <th>erros</th>\n",
       "      <th>id</th>\n",
       "      <th>passou</th>\n",
       "    </tr>\n",
       "  </thead>\n",
       "  <tbody>\n",
       "    <tr>\n",
       "      <th>2313</th>\n",
       "      <td>[^\\nSyntaxError:]</td>\n",
       "      <td>ch3_2020_03_04_20_08_39_273348.py</td>\n",
       "      <td>False</td>\n",
       "    </tr>\n",
       "    <tr>\n",
       "      <th>2314</th>\n",
       "      <td>[^\\nSyntaxError:]</td>\n",
       "      <td>ch3_2019_09_11_23_12_24_127271.py</td>\n",
       "      <td>False</td>\n",
       "    </tr>\n",
       "    <tr>\n",
       "      <th>2315</th>\n",
       "      <td>[^\\nSyntaxError:]</td>\n",
       "      <td>ch3_2020_03_04_19_49_40_592877.py</td>\n",
       "      <td>False</td>\n",
       "    </tr>\n",
       "    <tr>\n",
       "      <th>2316</th>\n",
       "      <td>[test_1\\nAssertionError:, test_2\\nAssertionErr...</td>\n",
       "      <td>ch3_2020_09_04_16_47_36_060892.py</td>\n",
       "      <td>False</td>\n",
       "    </tr>\n",
       "  </tbody>\n",
       "</table>\n",
       "</div>"
      ],
      "text/plain": [
       "                                                  erros  \\\n",
       "2313                                  [^\\nSyntaxError:]   \n",
       "2314                                  [^\\nSyntaxError:]   \n",
       "2315                                  [^\\nSyntaxError:]   \n",
       "2316  [test_1\\nAssertionError:, test_2\\nAssertionErr...   \n",
       "\n",
       "                                     id  passou  \n",
       "2313  ch3_2020_03_04_20_08_39_273348.py   False  \n",
       "2314  ch3_2019_09_11_23_12_24_127271.py   False  \n",
       "2315  ch3_2020_03_04_19_49_40_592877.py   False  \n",
       "2316  ch3_2020_09_04_16_47_36_060892.py   False  "
      ]
     },
     "execution_count": 20,
     "metadata": {},
     "output_type": "execute_result"
    }
   ],
   "source": [
    "#df_exs=df_exs.set_index('id')\n",
    "df_exs.tail(4)"
   ]
  },
  {
   "cell_type": "code",
   "execution_count": 21,
   "metadata": {},
   "outputs": [],
   "source": [
    "id = df_exs[\"id\"]\n"
   ]
  },
  {
   "cell_type": "code",
   "execution_count": 22,
   "metadata": {
    "scrolled": true
   },
   "outputs": [],
   "source": [
    "r = df_exs[\"passou\"]\n"
   ]
  },
  {
   "cell_type": "code",
   "execution_count": 23,
   "metadata": {
    "scrolled": true
   },
   "outputs": [
    {
     "data": {
      "text/html": [
       "<div>\n",
       "<style scoped>\n",
       "    .dataframe tbody tr th:only-of-type {\n",
       "        vertical-align: middle;\n",
       "    }\n",
       "\n",
       "    .dataframe tbody tr th {\n",
       "        vertical-align: top;\n",
       "    }\n",
       "\n",
       "    .dataframe thead th {\n",
       "        text-align: right;\n",
       "    }\n",
       "</style>\n",
       "<table border=\"1\" class=\"dataframe\">\n",
       "  <thead>\n",
       "    <tr style=\"text-align: right;\">\n",
       "      <th></th>\n",
       "      <th>erros</th>\n",
       "      <th>id</th>\n",
       "      <th>passou</th>\n",
       "    </tr>\n",
       "  </thead>\n",
       "  <tbody>\n",
       "    <tr>\n",
       "      <th>1</th>\n",
       "      <td>[^\\nSyntaxError:]</td>\n",
       "      <td>ch3_2019_08_13_16_52_03_378932.py</td>\n",
       "      <td>False</td>\n",
       "    </tr>\n",
       "    <tr>\n",
       "      <th>2</th>\n",
       "      <td>[calcula_gaussiana\\nTypeError:]</td>\n",
       "      <td>ch3_2020_03_09_19_11_49_185208.py</td>\n",
       "      <td>False</td>\n",
       "    </tr>\n",
       "    <tr>\n",
       "      <th>3</th>\n",
       "      <td>[^\\nSyntaxError:]</td>\n",
       "      <td>ch3_2020_02_28_17_44_32_436097.py</td>\n",
       "      <td>False</td>\n",
       "    </tr>\n",
       "    <tr>\n",
       "      <th>4</th>\n",
       "      <td>[^\\nSyntaxError:]</td>\n",
       "      <td>ch3_2019_03_01_12_59_50_648548.py</td>\n",
       "      <td>False</td>\n",
       "    </tr>\n",
       "    <tr>\n",
       "      <th>5</th>\n",
       "      <td>[calcula_gaussiana\\nTypeError:]</td>\n",
       "      <td>ch3_2020_02_20_00_11_13_695953.py</td>\n",
       "      <td>False</td>\n",
       "    </tr>\n",
       "  </tbody>\n",
       "</table>\n",
       "</div>"
      ],
      "text/plain": [
       "                             erros                                 id  passou\n",
       "1                [^\\nSyntaxError:]  ch3_2019_08_13_16_52_03_378932.py   False\n",
       "2  [calcula_gaussiana\\nTypeError:]  ch3_2020_03_09_19_11_49_185208.py   False\n",
       "3                [^\\nSyntaxError:]  ch3_2020_02_28_17_44_32_436097.py   False\n",
       "4                [^\\nSyntaxError:]  ch3_2019_03_01_12_59_50_648548.py   False\n",
       "5  [calcula_gaussiana\\nTypeError:]  ch3_2020_02_20_00_11_13_695953.py   False"
      ]
     },
     "execution_count": 23,
     "metadata": {},
     "output_type": "execute_result"
    }
   ],
   "source": [
    "df_erros=df_exs[df_exs['passou']==False]\n",
    "\n",
    "df_erros.head()"
   ]
  },
  {
   "cell_type": "code",
   "execution_count": 24,
   "metadata": {
    "scrolled": false
   },
   "outputs": [
    {
     "data": {
      "text/html": [
       "<div>\n",
       "<style scoped>\n",
       "    .dataframe tbody tr th:only-of-type {\n",
       "        vertical-align: middle;\n",
       "    }\n",
       "\n",
       "    .dataframe tbody tr th {\n",
       "        vertical-align: top;\n",
       "    }\n",
       "\n",
       "    .dataframe thead th {\n",
       "        text-align: right;\n",
       "    }\n",
       "</style>\n",
       "<table border=\"1\" class=\"dataframe\">\n",
       "  <thead>\n",
       "    <tr style=\"text-align: right;\">\n",
       "      <th></th>\n",
       "      <th>erros</th>\n",
       "      <th>id</th>\n",
       "      <th>passou</th>\n",
       "    </tr>\n",
       "  </thead>\n",
       "  <tbody>\n",
       "    <tr>\n",
       "      <th>1</th>\n",
       "      <td>^\\nSyntaxError:</td>\n",
       "      <td>ch3_2019_08_13_16_52_03_378932.py</td>\n",
       "      <td>False</td>\n",
       "    </tr>\n",
       "    <tr>\n",
       "      <th>2</th>\n",
       "      <td>calcula_gaussiana\\nTypeError:</td>\n",
       "      <td>ch3_2020_03_09_19_11_49_185208.py</td>\n",
       "      <td>False</td>\n",
       "    </tr>\n",
       "    <tr>\n",
       "      <th>3</th>\n",
       "      <td>^\\nSyntaxError:</td>\n",
       "      <td>ch3_2020_02_28_17_44_32_436097.py</td>\n",
       "      <td>False</td>\n",
       "    </tr>\n",
       "    <tr>\n",
       "      <th>4</th>\n",
       "      <td>^\\nSyntaxError:</td>\n",
       "      <td>ch3_2019_03_01_12_59_50_648548.py</td>\n",
       "      <td>False</td>\n",
       "    </tr>\n",
       "    <tr>\n",
       "      <th>5</th>\n",
       "      <td>calcula_gaussiana\\nTypeError:</td>\n",
       "      <td>ch3_2020_02_20_00_11_13_695953.py</td>\n",
       "      <td>False</td>\n",
       "    </tr>\n",
       "  </tbody>\n",
       "</table>\n",
       "</div>"
      ],
      "text/plain": [
       "                           erros                                 id  passou\n",
       "1                ^\\nSyntaxError:  ch3_2019_08_13_16_52_03_378932.py   False\n",
       "2  calcula_gaussiana\\nTypeError:  ch3_2020_03_09_19_11_49_185208.py   False\n",
       "3                ^\\nSyntaxError:  ch3_2020_02_28_17_44_32_436097.py   False\n",
       "4                ^\\nSyntaxError:  ch3_2019_03_01_12_59_50_648548.py   False\n",
       "5  calcula_gaussiana\\nTypeError:  ch3_2020_02_20_00_11_13_695953.py   False"
      ]
     },
     "execution_count": 24,
     "metadata": {},
     "output_type": "execute_result"
    }
   ],
   "source": [
    "df_erros['erros'] = [''.join(map(str, l)) for l in df_erros['erros']]\n",
    "df_erros.head()\n"
   ]
  },
  {
   "cell_type": "code",
   "execution_count": 25,
   "metadata": {
    "scrolled": true
   },
   "outputs": [
    {
     "name": "stdout",
     "output_type": "stream",
     "text": [
      "[]\n"
     ]
    },
    {
     "data": {
      "text/html": [
       "<div>\n",
       "<style scoped>\n",
       "    .dataframe tbody tr th:only-of-type {\n",
       "        vertical-align: middle;\n",
       "    }\n",
       "\n",
       "    .dataframe tbody tr th {\n",
       "        vertical-align: top;\n",
       "    }\n",
       "\n",
       "    .dataframe thead th {\n",
       "        text-align: right;\n",
       "    }\n",
       "</style>\n",
       "<table border=\"1\" class=\"dataframe\">\n",
       "  <thead>\n",
       "    <tr style=\"text-align: right;\">\n",
       "      <th></th>\n",
       "      <th>erros</th>\n",
       "      <th>id</th>\n",
       "      <th>passou</th>\n",
       "    </tr>\n",
       "  </thead>\n",
       "  <tbody>\n",
       "    <tr>\n",
       "      <th>1</th>\n",
       "      <td>SyntaxError</td>\n",
       "      <td>ch3_2019_08_13_16_52_03_378932.py</td>\n",
       "      <td>False</td>\n",
       "    </tr>\n",
       "    <tr>\n",
       "      <th>2</th>\n",
       "      <td>TypeError</td>\n",
       "      <td>ch3_2020_03_09_19_11_49_185208.py</td>\n",
       "      <td>False</td>\n",
       "    </tr>\n",
       "    <tr>\n",
       "      <th>3</th>\n",
       "      <td>SyntaxError</td>\n",
       "      <td>ch3_2020_02_28_17_44_32_436097.py</td>\n",
       "      <td>False</td>\n",
       "    </tr>\n",
       "    <tr>\n",
       "      <th>4</th>\n",
       "      <td>SyntaxError</td>\n",
       "      <td>ch3_2019_03_01_12_59_50_648548.py</td>\n",
       "      <td>False</td>\n",
       "    </tr>\n",
       "    <tr>\n",
       "      <th>5</th>\n",
       "      <td>TypeError</td>\n",
       "      <td>ch3_2020_02_20_00_11_13_695953.py</td>\n",
       "      <td>False</td>\n",
       "    </tr>\n",
       "  </tbody>\n",
       "</table>\n",
       "</div>"
      ],
      "text/plain": [
       "         erros                                 id  passou\n",
       "1  SyntaxError  ch3_2019_08_13_16_52_03_378932.py   False\n",
       "2    TypeError  ch3_2020_03_09_19_11_49_185208.py   False\n",
       "3  SyntaxError  ch3_2020_02_28_17_44_32_436097.py   False\n",
       "4  SyntaxError  ch3_2019_03_01_12_59_50_648548.py   False\n",
       "5    TypeError  ch3_2020_02_20_00_11_13_695953.py   False"
      ]
     },
     "execution_count": 25,
     "metadata": {},
     "output_type": "execute_result"
    }
   ],
   "source": [
    "num = [0,1,2,3,4,5,6,7,8,9]\n",
    "tipos_erros = [\"AssertionError\",\"SyntaxError\", \"IndentationError\", \"TypeError\", \"NameError\", \"PriorityError\", \"ModuleNotFoundError\", \"TabError\", \"UnboundLocalError\", \"AttributeError\", \"ZeroDivisionError\", \"OverflowError\"]\n",
    "tipos = []\n",
    "for ind in df_erros.index: \n",
    "#     erro = \"AssertionError:\"\n",
    "#     for n in num:\n",
    "#         if str(n) in df_erros[\"erros\"][ind]:\n",
    "#             erro+=(str(n)+\"/\")\n",
    "#     if (erro !=  (\"AssertionError:\")):\n",
    "#         df_erros[\"erros\"][ind] = erro\n",
    "    for e in tipos_erros:\n",
    "        if e in  df_erros[\"erros\"][ind]:\n",
    "            df_erros[\"erros\"][ind] = e\n",
    "    \n",
    "#     elif  \"SyntaxError\" in df_erros[\"erros\"][ind]:\n",
    "#         df_erros[\"erros\"][ind] = \"SyntaxError\"\n",
    "    \n",
    "#     elif \"IndentationError\" in df_erros[\"erros\"][ind]:\n",
    "#         df_erros[\"erros\"][ind] = \"IndentationError\"\n",
    "        \n",
    "#     else: \n",
    "#         if df_erros[\"erros\"][ind] not in tipos:\n",
    "#             tipos.append(df_erros[\"erros\"][ind])\n",
    "\n",
    "            \n",
    "            \n",
    "print(tipos)\n",
    "df_erros.head()"
   ]
  },
  {
   "cell_type": "code",
   "execution_count": 26,
   "metadata": {},
   "outputs": [
    {
     "data": {
      "text/html": [
       "<div>\n",
       "<style scoped>\n",
       "    .dataframe tbody tr th:only-of-type {\n",
       "        vertical-align: middle;\n",
       "    }\n",
       "\n",
       "    .dataframe tbody tr th {\n",
       "        vertical-align: top;\n",
       "    }\n",
       "\n",
       "    .dataframe thead th {\n",
       "        text-align: right;\n",
       "    }\n",
       "</style>\n",
       "<table border=\"1\" class=\"dataframe\">\n",
       "  <thead>\n",
       "    <tr style=\"text-align: right;\">\n",
       "      <th></th>\n",
       "      <th>erros</th>\n",
       "      <th>id</th>\n",
       "      <th>passou</th>\n",
       "    </tr>\n",
       "  </thead>\n",
       "  <tbody>\n",
       "    <tr>\n",
       "      <th>1</th>\n",
       "      <td>SyntaxError</td>\n",
       "      <td>ch3_2019_08_13_16_52_03_378932.py</td>\n",
       "      <td>False</td>\n",
       "    </tr>\n",
       "    <tr>\n",
       "      <th>2</th>\n",
       "      <td>TypeError</td>\n",
       "      <td>ch3_2020_03_09_19_11_49_185208.py</td>\n",
       "      <td>False</td>\n",
       "    </tr>\n",
       "    <tr>\n",
       "      <th>3</th>\n",
       "      <td>SyntaxError</td>\n",
       "      <td>ch3_2020_02_28_17_44_32_436097.py</td>\n",
       "      <td>False</td>\n",
       "    </tr>\n",
       "    <tr>\n",
       "      <th>4</th>\n",
       "      <td>SyntaxError</td>\n",
       "      <td>ch3_2019_03_01_12_59_50_648548.py</td>\n",
       "      <td>False</td>\n",
       "    </tr>\n",
       "    <tr>\n",
       "      <th>5</th>\n",
       "      <td>TypeError</td>\n",
       "      <td>ch3_2020_02_20_00_11_13_695953.py</td>\n",
       "      <td>False</td>\n",
       "    </tr>\n",
       "  </tbody>\n",
       "</table>\n",
       "</div>"
      ],
      "text/plain": [
       "         erros                                 id  passou\n",
       "1  SyntaxError  ch3_2019_08_13_16_52_03_378932.py   False\n",
       "2    TypeError  ch3_2020_03_09_19_11_49_185208.py   False\n",
       "3  SyntaxError  ch3_2020_02_28_17_44_32_436097.py   False\n",
       "4  SyntaxError  ch3_2019_03_01_12_59_50_648548.py   False\n",
       "5    TypeError  ch3_2020_02_20_00_11_13_695953.py   False"
      ]
     },
     "execution_count": 26,
     "metadata": {},
     "output_type": "execute_result"
    }
   ],
   "source": [
    "df_erros.head()"
   ]
  },
  {
   "cell_type": "code",
   "execution_count": 27,
   "metadata": {},
   "outputs": [
    {
     "data": {
      "text/html": [
       "<div>\n",
       "<style scoped>\n",
       "    .dataframe tbody tr th:only-of-type {\n",
       "        vertical-align: middle;\n",
       "    }\n",
       "\n",
       "    .dataframe tbody tr th {\n",
       "        vertical-align: top;\n",
       "    }\n",
       "\n",
       "    .dataframe thead th {\n",
       "        text-align: right;\n",
       "    }\n",
       "</style>\n",
       "<table border=\"1\" class=\"dataframe\">\n",
       "  <thead>\n",
       "    <tr style=\"text-align: right;\">\n",
       "      <th></th>\n",
       "      <th>erros</th>\n",
       "    </tr>\n",
       "  </thead>\n",
       "  <tbody>\n",
       "    <tr>\n",
       "      <th>SyntaxError</th>\n",
       "      <td>676</td>\n",
       "    </tr>\n",
       "    <tr>\n",
       "      <th>AssertionError</th>\n",
       "      <td>504</td>\n",
       "    </tr>\n",
       "    <tr>\n",
       "      <th>TypeError</th>\n",
       "      <td>443</td>\n",
       "    </tr>\n",
       "    <tr>\n",
       "      <th>NameError</th>\n",
       "      <td>192</td>\n",
       "    </tr>\n",
       "    <tr>\n",
       "      <th>PriorityError</th>\n",
       "      <td>83</td>\n",
       "    </tr>\n",
       "    <tr>\n",
       "      <th>IndentationError</th>\n",
       "      <td>58</td>\n",
       "    </tr>\n",
       "    <tr>\n",
       "      <th>TabError</th>\n",
       "      <td>28</td>\n",
       "    </tr>\n",
       "    <tr>\n",
       "      <th>ModuleNotFoundError</th>\n",
       "      <td>13</td>\n",
       "    </tr>\n",
       "    <tr>\n",
       "      <th>UnboundLocalError</th>\n",
       "      <td>11</td>\n",
       "    </tr>\n",
       "    <tr>\n",
       "      <th>ZeroDivisionError</th>\n",
       "      <td>5</td>\n",
       "    </tr>\n",
       "    <tr>\n",
       "      <th>AttributeError</th>\n",
       "      <td>4</td>\n",
       "    </tr>\n",
       "    <tr>\n",
       "      <th>OverflowError</th>\n",
       "      <td>1</td>\n",
       "    </tr>\n",
       "  </tbody>\n",
       "</table>\n",
       "</div>"
      ],
      "text/plain": [
       "                     erros\n",
       "SyntaxError            676\n",
       "AssertionError         504\n",
       "TypeError              443\n",
       "NameError              192\n",
       "PriorityError           83\n",
       "IndentationError        58\n",
       "TabError                28\n",
       "ModuleNotFoundError     13\n",
       "UnboundLocalError       11\n",
       "ZeroDivisionError        5\n",
       "AttributeError           4\n",
       "OverflowError            1"
      ]
     },
     "execution_count": 27,
     "metadata": {},
     "output_type": "execute_result"
    }
   ],
   "source": [
    "erros_count = df_erros[\"erros\"].value_counts().to_frame()\n",
    "erros_count"
   ]
  },
  {
   "cell_type": "code",
   "execution_count": 28,
   "metadata": {},
   "outputs": [
    {
     "data": {
      "text/plain": [
       "Text(0, 0.5, 'Quantidade')"
      ]
     },
     "execution_count": 28,
     "metadata": {},
     "output_type": "execute_result"
    },
    {
     "data": {
      "text/plain": [
       "<Figure size 864x576 with 0 Axes>"
      ]
     },
     "metadata": {},
     "output_type": "display_data"
    },
    {
     "data": {
      "image/png": "[encoded data removed]",
      "text/plain": [
       "<Figure size 432x288 with 1 Axes>"
      ]
     },
     "metadata": {
      "needs_background": "light"
     },
     "output_type": "display_data"
    }
   ],
   "source": [
    "plt.figure(figsize=(12, 8))\n",
    "sns.despine()\n",
    "ax = erros_count.plot(kind='bar',colormap='summer')\n",
    "plt.xlabel('Tipos de erros')\n",
    "plt.ylabel('Quantidade')\n",
    "# x_labels = [\"AssertionError\", \"SyntaxError\", \"IndentationError\"]\n",
    "#ax.legend(x_labels)\n",
    "# ax.set_xticklabels(x_labels)"
   ]
  },
  {
   "cell_type": "markdown",
   "metadata": {},
   "source": [
    "## Adicionando os IDs dos usuários ao dataframe"
   ]
  },
  {
   "cell_type": "code",
   "execution_count": 29,
   "metadata": {},
   "outputs": [],
   "source": [
    "import os\n",
    "\n",
    "def list_files(dir):\n",
    "    r = []\n",
    "    for root, dirs, files in os.walk(dir):\n",
    "        for name in files:\n",
    "            r.append(os.path.join(root, name))\n",
    "    return r"
   ]
  },
  {
   "cell_type": "code",
   "execution_count": 30,
   "metadata": {},
   "outputs": [],
   "source": [
    "dir = r\"C:\\Users\\gabic\\Documents\\NINJA_DeSoft\\submissoes_servidor\\backup\"\n",
    "files = list_files(dir)"
   ]
  },
  {
   "cell_type": "code",
   "execution_count": 31,
   "metadata": {},
   "outputs": [],
   "source": [
    "lista_files = []\n",
    "for f in files:\n",
    "    f = f[65:]\n",
    "    f.replace(\"//\",\"/\")\n",
    "    lista_files.append(f)\n",
    "    \n",
    "lista_files= lista_files[1:]"
   ]
  },
  {
   "cell_type": "code",
   "execution_count": 32,
   "metadata": {},
   "outputs": [],
   "source": [
    "df_erros[\"usuario\"]=\"0\"\n"
   ]
  },
  {
   "cell_type": "code",
   "execution_count": 34,
   "metadata": {},
   "outputs": [],
   "source": [
    " for ind in df_erros.index: \n",
    "        for l in lista_files:\n",
    "            user = l[0:8]\n",
    "            ex = l[9:]\n",
    "            if ex == df_erros[\"id\"][ind]:\n",
    "                df_erros[\"usuario\"][ind] = user\n",
    "#                 print(user)\n",
    "#                 print(ex)\n"
   ]
  },
  {
   "cell_type": "code",
   "execution_count": 35,
   "metadata": {
    "scrolled": true
   },
   "outputs": [
    {
     "data": {
      "text/html": [
       "<div>\n",
       "<style scoped>\n",
       "    .dataframe tbody tr th:only-of-type {\n",
       "        vertical-align: middle;\n",
       "    }\n",
       "\n",
       "    .dataframe tbody tr th {\n",
       "        vertical-align: top;\n",
       "    }\n",
       "\n",
       "    .dataframe thead th {\n",
       "        text-align: right;\n",
       "    }\n",
       "</style>\n",
       "<table border=\"1\" class=\"dataframe\">\n",
       "  <thead>\n",
       "    <tr style=\"text-align: right;\">\n",
       "      <th></th>\n",
       "      <th>erros</th>\n",
       "      <th>id</th>\n",
       "      <th>passou</th>\n",
       "      <th>usuario</th>\n",
       "    </tr>\n",
       "  </thead>\n",
       "  <tbody>\n",
       "    <tr>\n",
       "      <th>1</th>\n",
       "      <td>SyntaxError</td>\n",
       "      <td>ch3_2019_08_13_16_52_03_378932.py</td>\n",
       "      <td>False</td>\n",
       "      <td>user_086</td>\n",
       "    </tr>\n",
       "    <tr>\n",
       "      <th>2</th>\n",
       "      <td>TypeError</td>\n",
       "      <td>ch3_2020_03_09_19_11_49_185208.py</td>\n",
       "      <td>False</td>\n",
       "      <td>user_093</td>\n",
       "    </tr>\n",
       "    <tr>\n",
       "      <th>3</th>\n",
       "      <td>SyntaxError</td>\n",
       "      <td>ch3_2020_02_28_17_44_32_436097.py</td>\n",
       "      <td>False</td>\n",
       "      <td>user_321</td>\n",
       "    </tr>\n",
       "    <tr>\n",
       "      <th>4</th>\n",
       "      <td>SyntaxError</td>\n",
       "      <td>ch3_2019_03_01_12_59_50_648548.py</td>\n",
       "      <td>False</td>\n",
       "      <td>user_236</td>\n",
       "    </tr>\n",
       "    <tr>\n",
       "      <th>5</th>\n",
       "      <td>TypeError</td>\n",
       "      <td>ch3_2020_02_20_00_11_13_695953.py</td>\n",
       "      <td>False</td>\n",
       "      <td>user_282</td>\n",
       "    </tr>\n",
       "  </tbody>\n",
       "</table>\n",
       "</div>"
      ],
      "text/plain": [
       "         erros                                 id  passou   usuario\n",
       "1  SyntaxError  ch3_2019_08_13_16_52_03_378932.py   False  user_086\n",
       "2    TypeError  ch3_2020_03_09_19_11_49_185208.py   False  user_093\n",
       "3  SyntaxError  ch3_2020_02_28_17_44_32_436097.py   False  user_321\n",
       "4  SyntaxError  ch3_2019_03_01_12_59_50_648548.py   False  user_236\n",
       "5    TypeError  ch3_2020_02_20_00_11_13_695953.py   False  user_282"
      ]
     },
     "execution_count": 35,
     "metadata": {},
     "output_type": "execute_result"
    }
   ],
   "source": [
    "df_erros.head()"
   ]
  },
  {
   "cell_type": "code",
   "execution_count": 36,
   "metadata": {
    "scrolled": true
   },
   "outputs": [
    {
     "data": {
      "text/plain": [
       "user_230    33\n",
       "user_252    32\n",
       "user_154    30\n",
       "user_085    26\n",
       "user_276    23\n",
       "user_086    23\n",
       "user_363    23\n",
       "user_206    22\n",
       "user_330    22\n",
       "user_217    22\n",
       "user_117    21\n",
       "user_205    21\n",
       "user_372    21\n",
       "user_212    21\n",
       "user_319    20\n",
       "user_343    19\n",
       "user_060    18\n",
       "user_321    18\n",
       "user_014    17\n",
       "user_345    16\n",
       "user_393    16\n",
       "user_019    16\n",
       "user_299    16\n",
       "user_088    16\n",
       "user_027    16\n",
       "user_142    16\n",
       "user_017    15\n",
       "user_203    15\n",
       "user_265    15\n",
       "user_269    15\n",
       "            ..\n",
       "user_139     1\n",
       "user_096     1\n",
       "user_094     1\n",
       "user_339     1\n",
       "user_380     1\n",
       "user_331     1\n",
       "user_325     1\n",
       "user_168     1\n",
       "user_280     1\n",
       "user_041     1\n",
       "user_255     1\n",
       "user_244     1\n",
       "user_170     1\n",
       "user_322     1\n",
       "user_180     1\n",
       "user_029     1\n",
       "user_039     1\n",
       "user_146     1\n",
       "user_286     1\n",
       "user_107     1\n",
       "user_328     1\n",
       "user_114     1\n",
       "user_211     1\n",
       "user_353     1\n",
       "user_365     1\n",
       "user_161     1\n",
       "user_134     1\n",
       "user_083     1\n",
       "user_137     1\n",
       "user_193     1\n",
       "Name: usuario, Length: 294, dtype: int64"
      ]
     },
     "execution_count": 36,
     "metadata": {},
     "output_type": "execute_result"
    }
   ],
   "source": [
    "users_count = df_erros[\"usuario\"].value_counts()\n",
    "users_count"
   ]
  },
  {
   "cell_type": "code",
   "execution_count": 38,
   "metadata": {
    "scrolled": true
   },
   "outputs": [
    {
     "data": {
      "text/html": [
       "<div>\n",
       "<style scoped>\n",
       "    .dataframe tbody tr th:only-of-type {\n",
       "        vertical-align: middle;\n",
       "    }\n",
       "\n",
       "    .dataframe tbody tr th {\n",
       "        vertical-align: top;\n",
       "    }\n",
       "\n",
       "    .dataframe thead th {\n",
       "        text-align: right;\n",
       "    }\n",
       "</style>\n",
       "<table border=\"1\" class=\"dataframe\">\n",
       "  <thead>\n",
       "    <tr style=\"text-align: right;\">\n",
       "      <th>usuario</th>\n",
       "      <th>user_001</th>\n",
       "      <th>user_003</th>\n",
       "      <th>user_004</th>\n",
       "      <th>user_005</th>\n",
       "      <th>user_006</th>\n",
       "      <th>user_007</th>\n",
       "      <th>user_009</th>\n",
       "      <th>user_010</th>\n",
       "      <th>user_011</th>\n",
       "      <th>user_012</th>\n",
       "      <th>...</th>\n",
       "      <th>user_380</th>\n",
       "      <th>user_382</th>\n",
       "      <th>user_383</th>\n",
       "      <th>user_385</th>\n",
       "      <th>user_386</th>\n",
       "      <th>user_391</th>\n",
       "      <th>user_393</th>\n",
       "      <th>user_394</th>\n",
       "      <th>user_395</th>\n",
       "      <th>user_399</th>\n",
       "    </tr>\n",
       "    <tr>\n",
       "      <th>erros</th>\n",
       "      <th></th>\n",
       "      <th></th>\n",
       "      <th></th>\n",
       "      <th></th>\n",
       "      <th></th>\n",
       "      <th></th>\n",
       "      <th></th>\n",
       "      <th></th>\n",
       "      <th></th>\n",
       "      <th></th>\n",
       "      <th></th>\n",
       "      <th></th>\n",
       "      <th></th>\n",
       "      <th></th>\n",
       "      <th></th>\n",
       "      <th></th>\n",
       "      <th></th>\n",
       "      <th></th>\n",
       "      <th></th>\n",
       "      <th></th>\n",
       "      <th></th>\n",
       "    </tr>\n",
       "  </thead>\n",
       "  <tbody>\n",
       "    <tr>\n",
       "      <th>AssertionError</th>\n",
       "      <td>5</td>\n",
       "      <td>0</td>\n",
       "      <td>1</td>\n",
       "      <td>0</td>\n",
       "      <td>0</td>\n",
       "      <td>5</td>\n",
       "      <td>2</td>\n",
       "      <td>0</td>\n",
       "      <td>0</td>\n",
       "      <td>1</td>\n",
       "      <td>...</td>\n",
       "      <td>0</td>\n",
       "      <td>0</td>\n",
       "      <td>3</td>\n",
       "      <td>0</td>\n",
       "      <td>0</td>\n",
       "      <td>0</td>\n",
       "      <td>0</td>\n",
       "      <td>0</td>\n",
       "      <td>0</td>\n",
       "      <td>0</td>\n",
       "    </tr>\n",
       "    <tr>\n",
       "      <th>AttributeError</th>\n",
       "      <td>0</td>\n",
       "      <td>0</td>\n",
       "      <td>0</td>\n",
       "      <td>0</td>\n",
       "      <td>0</td>\n",
       "      <td>0</td>\n",
       "      <td>0</td>\n",
       "      <td>0</td>\n",
       "      <td>0</td>\n",
       "      <td>0</td>\n",
       "      <td>...</td>\n",
       "      <td>0</td>\n",
       "      <td>0</td>\n",
       "      <td>0</td>\n",
       "      <td>0</td>\n",
       "      <td>1</td>\n",
       "      <td>0</td>\n",
       "      <td>0</td>\n",
       "      <td>0</td>\n",
       "      <td>0</td>\n",
       "      <td>0</td>\n",
       "    </tr>\n",
       "    <tr>\n",
       "      <th>IndentationError</th>\n",
       "      <td>1</td>\n",
       "      <td>0</td>\n",
       "      <td>0</td>\n",
       "      <td>0</td>\n",
       "      <td>0</td>\n",
       "      <td>0</td>\n",
       "      <td>0</td>\n",
       "      <td>0</td>\n",
       "      <td>0</td>\n",
       "      <td>0</td>\n",
       "      <td>...</td>\n",
       "      <td>0</td>\n",
       "      <td>0</td>\n",
       "      <td>0</td>\n",
       "      <td>0</td>\n",
       "      <td>0</td>\n",
       "      <td>0</td>\n",
       "      <td>0</td>\n",
       "      <td>0</td>\n",
       "      <td>0</td>\n",
       "      <td>0</td>\n",
       "    </tr>\n",
       "    <tr>\n",
       "      <th>ModuleNotFoundError</th>\n",
       "      <td>0</td>\n",
       "      <td>0</td>\n",
       "      <td>0</td>\n",
       "      <td>0</td>\n",
       "      <td>0</td>\n",
       "      <td>0</td>\n",
       "      <td>0</td>\n",
       "      <td>0</td>\n",
       "      <td>0</td>\n",
       "      <td>0</td>\n",
       "      <td>...</td>\n",
       "      <td>0</td>\n",
       "      <td>0</td>\n",
       "      <td>0</td>\n",
       "      <td>0</td>\n",
       "      <td>0</td>\n",
       "      <td>0</td>\n",
       "      <td>0</td>\n",
       "      <td>0</td>\n",
       "      <td>0</td>\n",
       "      <td>0</td>\n",
       "    </tr>\n",
       "    <tr>\n",
       "      <th>NameError</th>\n",
       "      <td>0</td>\n",
       "      <td>0</td>\n",
       "      <td>0</td>\n",
       "      <td>1</td>\n",
       "      <td>3</td>\n",
       "      <td>1</td>\n",
       "      <td>2</td>\n",
       "      <td>0</td>\n",
       "      <td>0</td>\n",
       "      <td>1</td>\n",
       "      <td>...</td>\n",
       "      <td>1</td>\n",
       "      <td>2</td>\n",
       "      <td>1</td>\n",
       "      <td>0</td>\n",
       "      <td>0</td>\n",
       "      <td>4</td>\n",
       "      <td>0</td>\n",
       "      <td>1</td>\n",
       "      <td>0</td>\n",
       "      <td>0</td>\n",
       "    </tr>\n",
       "    <tr>\n",
       "      <th>OverflowError</th>\n",
       "      <td>0</td>\n",
       "      <td>0</td>\n",
       "      <td>0</td>\n",
       "      <td>0</td>\n",
       "      <td>0</td>\n",
       "      <td>0</td>\n",
       "      <td>0</td>\n",
       "      <td>0</td>\n",
       "      <td>0</td>\n",
       "      <td>0</td>\n",
       "      <td>...</td>\n",
       "      <td>0</td>\n",
       "      <td>0</td>\n",
       "      <td>0</td>\n",
       "      <td>0</td>\n",
       "      <td>0</td>\n",
       "      <td>0</td>\n",
       "      <td>0</td>\n",
       "      <td>0</td>\n",
       "      <td>0</td>\n",
       "      <td>0</td>\n",
       "    </tr>\n",
       "    <tr>\n",
       "      <th>PriorityError</th>\n",
       "      <td>0</td>\n",
       "      <td>0</td>\n",
       "      <td>0</td>\n",
       "      <td>0</td>\n",
       "      <td>0</td>\n",
       "      <td>0</td>\n",
       "      <td>0</td>\n",
       "      <td>3</td>\n",
       "      <td>0</td>\n",
       "      <td>0</td>\n",
       "      <td>...</td>\n",
       "      <td>0</td>\n",
       "      <td>0</td>\n",
       "      <td>0</td>\n",
       "      <td>0</td>\n",
       "      <td>0</td>\n",
       "      <td>0</td>\n",
       "      <td>5</td>\n",
       "      <td>0</td>\n",
       "      <td>0</td>\n",
       "      <td>0</td>\n",
       "    </tr>\n",
       "    <tr>\n",
       "      <th>SyntaxError</th>\n",
       "      <td>0</td>\n",
       "      <td>2</td>\n",
       "      <td>4</td>\n",
       "      <td>0</td>\n",
       "      <td>3</td>\n",
       "      <td>1</td>\n",
       "      <td>1</td>\n",
       "      <td>0</td>\n",
       "      <td>2</td>\n",
       "      <td>2</td>\n",
       "      <td>...</td>\n",
       "      <td>0</td>\n",
       "      <td>0</td>\n",
       "      <td>2</td>\n",
       "      <td>1</td>\n",
       "      <td>1</td>\n",
       "      <td>2</td>\n",
       "      <td>2</td>\n",
       "      <td>0</td>\n",
       "      <td>2</td>\n",
       "      <td>1</td>\n",
       "    </tr>\n",
       "    <tr>\n",
       "      <th>TabError</th>\n",
       "      <td>0</td>\n",
       "      <td>0</td>\n",
       "      <td>0</td>\n",
       "      <td>0</td>\n",
       "      <td>5</td>\n",
       "      <td>0</td>\n",
       "      <td>0</td>\n",
       "      <td>0</td>\n",
       "      <td>0</td>\n",
       "      <td>0</td>\n",
       "      <td>...</td>\n",
       "      <td>0</td>\n",
       "      <td>0</td>\n",
       "      <td>0</td>\n",
       "      <td>0</td>\n",
       "      <td>0</td>\n",
       "      <td>0</td>\n",
       "      <td>0</td>\n",
       "      <td>0</td>\n",
       "      <td>0</td>\n",
       "      <td>0</td>\n",
       "    </tr>\n",
       "    <tr>\n",
       "      <th>TypeError</th>\n",
       "      <td>0</td>\n",
       "      <td>0</td>\n",
       "      <td>0</td>\n",
       "      <td>2</td>\n",
       "      <td>0</td>\n",
       "      <td>0</td>\n",
       "      <td>0</td>\n",
       "      <td>1</td>\n",
       "      <td>1</td>\n",
       "      <td>0</td>\n",
       "      <td>...</td>\n",
       "      <td>0</td>\n",
       "      <td>0</td>\n",
       "      <td>1</td>\n",
       "      <td>6</td>\n",
       "      <td>0</td>\n",
       "      <td>0</td>\n",
       "      <td>9</td>\n",
       "      <td>0</td>\n",
       "      <td>0</td>\n",
       "      <td>1</td>\n",
       "    </tr>\n",
       "    <tr>\n",
       "      <th>UnboundLocalError</th>\n",
       "      <td>0</td>\n",
       "      <td>0</td>\n",
       "      <td>0</td>\n",
       "      <td>0</td>\n",
       "      <td>0</td>\n",
       "      <td>0</td>\n",
       "      <td>0</td>\n",
       "      <td>0</td>\n",
       "      <td>0</td>\n",
       "      <td>0</td>\n",
       "      <td>...</td>\n",
       "      <td>0</td>\n",
       "      <td>0</td>\n",
       "      <td>0</td>\n",
       "      <td>0</td>\n",
       "      <td>0</td>\n",
       "      <td>0</td>\n",
       "      <td>0</td>\n",
       "      <td>0</td>\n",
       "      <td>0</td>\n",
       "      <td>0</td>\n",
       "    </tr>\n",
       "    <tr>\n",
       "      <th>ZeroDivisionError</th>\n",
       "      <td>0</td>\n",
       "      <td>0</td>\n",
       "      <td>0</td>\n",
       "      <td>0</td>\n",
       "      <td>0</td>\n",
       "      <td>0</td>\n",
       "      <td>0</td>\n",
       "      <td>0</td>\n",
       "      <td>0</td>\n",
       "      <td>0</td>\n",
       "      <td>...</td>\n",
       "      <td>0</td>\n",
       "      <td>0</td>\n",
       "      <td>0</td>\n",
       "      <td>0</td>\n",
       "      <td>0</td>\n",
       "      <td>0</td>\n",
       "      <td>0</td>\n",
       "      <td>0</td>\n",
       "      <td>0</td>\n",
       "      <td>0</td>\n",
       "    </tr>\n",
       "  </tbody>\n",
       "</table>\n",
       "<p>12 rows × 294 columns</p>\n",
       "</div>"
      ],
      "text/plain": [
       "usuario              user_001  user_003  user_004  user_005  user_006  \\\n",
       "erros                                                                   \n",
       "AssertionError              5         0         1         0         0   \n",
       "AttributeError              0         0         0         0         0   \n",
       "IndentationError            1         0         0         0         0   \n",
       "ModuleNotFoundError         0         0         0         0         0   \n",
       "NameError                   0         0         0         1         3   \n",
       "OverflowError               0         0         0         0         0   \n",
       "PriorityError               0         0         0         0         0   \n",
       "SyntaxError                 0         2         4         0         3   \n",
       "TabError                    0         0         0         0         5   \n",
       "TypeError                   0         0         0         2         0   \n",
       "UnboundLocalError           0         0         0         0         0   \n",
       "ZeroDivisionError           0         0         0         0         0   \n",
       "\n",
       "usuario              user_007  user_009  user_010  user_011  user_012  \\\n",
       "erros                                                                   \n",
       "AssertionError              5         2         0         0         1   \n",
       "AttributeError              0         0         0         0         0   \n",
       "IndentationError            0         0         0         0         0   \n",
       "ModuleNotFoundError         0         0         0         0         0   \n",
       "NameError                   1         2         0         0         1   \n",
       "OverflowError               0         0         0         0         0   \n",
       "PriorityError               0         0         3         0         0   \n",
       "SyntaxError                 1         1         0         2         2   \n",
       "TabError                    0         0         0         0         0   \n",
       "TypeError                   0         0         1         1         0   \n",
       "UnboundLocalError           0         0         0         0         0   \n",
       "ZeroDivisionError           0         0         0         0         0   \n",
       "\n",
       "usuario                ...     user_380  user_382  user_383  user_385  \\\n",
       "erros                  ...                                              \n",
       "AssertionError         ...            0         0         3         0   \n",
       "AttributeError         ...            0         0         0         0   \n",
       "IndentationError       ...            0         0         0         0   \n",
       "ModuleNotFoundError    ...            0         0         0         0   \n",
       "NameError              ...            1         2         1         0   \n",
       "OverflowError          ...            0         0         0         0   \n",
       "PriorityError          ...            0         0         0         0   \n",
       "SyntaxError            ...            0         0         2         1   \n",
       "TabError               ...            0         0         0         0   \n",
       "TypeError              ...            0         0         1         6   \n",
       "UnboundLocalError      ...            0         0         0         0   \n",
       "ZeroDivisionError      ...            0         0         0         0   \n",
       "\n",
       "usuario              user_386  user_391  user_393  user_394  user_395  \\\n",
       "erros                                                                   \n",
       "AssertionError              0         0         0         0         0   \n",
       "AttributeError              1         0         0         0         0   \n",
       "IndentationError            0         0         0         0         0   \n",
       "ModuleNotFoundError         0         0         0         0         0   \n",
       "NameError                   0         4         0         1         0   \n",
       "OverflowError               0         0         0         0         0   \n",
       "PriorityError               0         0         5         0         0   \n",
       "SyntaxError                 1         2         2         0         2   \n",
       "TabError                    0         0         0         0         0   \n",
       "TypeError                   0         0         9         0         0   \n",
       "UnboundLocalError           0         0         0         0         0   \n",
       "ZeroDivisionError           0         0         0         0         0   \n",
       "\n",
       "usuario              user_399  \n",
       "erros                          \n",
       "AssertionError              0  \n",
       "AttributeError              0  \n",
       "IndentationError            0  \n",
       "ModuleNotFoundError         0  \n",
       "NameError                   0  \n",
       "OverflowError               0  \n",
       "PriorityError               0  \n",
       "SyntaxError                 1  \n",
       "TabError                    0  \n",
       "TypeError                   1  \n",
       "UnboundLocalError           0  \n",
       "ZeroDivisionError           0  \n",
       "\n",
       "[12 rows x 294 columns]"
      ]
     },
     "execution_count": 38,
     "metadata": {},
     "output_type": "execute_result"
    }
   ],
   "source": [
    "# f, ax = plt.subplots(figsize = (32,20))\n",
    "# plt.figure(figsize = (640,200))\n",
    "erros = df_erros[\"erros\"]\n",
    "users = df_erros[\"usuario\"]\n",
    "table = pd.crosstab(erros, users)\n",
    "# plot=sns.heatmap(table,ax=ax, annot=True, cmap=\"YlGnBu\")\n",
    "# f.savefig(\"heatmap.png\", dpi=200)\n",
    "table"
   ]
  },
  {
   "cell_type": "markdown",
   "metadata": {},
   "source": [
    "## Digite o ID de um usuário para descobrir seus principais erros"
   ]
  },
  {
   "cell_type": "code",
   "execution_count": 41,
   "metadata": {
    "scrolled": true
   },
   "outputs": [
    {
     "data": {
      "text/plain": [
       "erros\n",
       "AssertionError         0\n",
       "AttributeError         0\n",
       "IndentationError       0\n",
       "ModuleNotFoundError    0\n",
       "NameError              1\n",
       "OverflowError          0\n",
       "PriorityError          0\n",
       "SyntaxError            0\n",
       "TabError               0\n",
       "TypeError              0\n",
       "UnboundLocalError      0\n",
       "ZeroDivisionError      0\n",
       "Name: user_380, dtype: int64"
      ]
     },
     "execution_count": 41,
     "metadata": {},
     "output_type": "execute_result"
    }
   ],
   "source": [
    "table[\"user_380\"]"
   ]
  },
  {
   "cell_type": "code",
   "execution_count": null,
   "metadata": {},
   "outputs": [],
   "source": []
  }
 ],
 "metadata": {
  "kernelspec": {
   "display_name": "Python 3",
   "language": "python",
   "name": "python3"
  },
  "language_info": {
   "codemirror_mode": {
    "name": "ipython",
    "version": 3
   },
   "file_extension": ".py",
   "mimetype": "text/x-python",
   "name": "python",
   "nbconvert_exporter": "python",
   "pygments_lexer": "ipython3",
   "version": "3.7.1"
  }
 },
 "nbformat": 4,
 "nbformat_minor": 2
}
